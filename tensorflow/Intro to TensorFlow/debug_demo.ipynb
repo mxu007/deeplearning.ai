{
 "cells": [
  {
   "cell_type": "markdown",
   "metadata": {
    "deletable": true,
    "editable": true
   },
   "source": [
    "## Demonstrates some common TensorFlow errors\n",
    "\n",
    "This notebook demonstrates some common TensorFlow errors, how to find them, and how to fix them."
   ]
  },
  {
   "cell_type": "code",
   "execution_count": 8,
   "metadata": {
    "collapsed": false,
    "deletable": true,
    "editable": true
   },
   "outputs": [
    {
     "name": "stdout",
     "output_type": "stream",
     "text": [
      "1.8.0\n"
     ]
    }
   ],
   "source": [
    "import tensorflow as tf\n",
    "print(tf.__version__)"
   ]
  },
  {
   "cell_type": "markdown",
   "metadata": {
    "deletable": true,
    "editable": true
   },
   "source": [
    "# Shape error"
   ]
  },
  {
   "cell_type": "code",
   "execution_count": null,
   "metadata": {
    "collapsed": false,
    "deletable": true,
    "editable": true
   },
   "outputs": [],
   "source": [
    "def some_method(data):\n",
    "  a = data[:,0:2]\n",
    "  c = data[:,1]\n",
    "  s = (a + c)\n",
    "  return tf.sqrt(tf.matmul(s, tf.transpose(s)))\n",
    "\n",
    "with tf.Session() as sess:\n",
    "  fake_data = tf.constant([\n",
    "      [5.0, 3.0, 7.1],\n",
    "      [2.3, 4.1, 4.8],\n",
    "      [2.8, 4.2, 5.6],\n",
    "      [2.9, 8.3, 7.3]\n",
    "    ])\n",
    "  print sess.run(some_method(fake_data))"
   ]
  },
  {
   "cell_type": "code",
   "execution_count": null,
   "metadata": {
    "collapsed": false,
    "deletable": true,
    "editable": true
   },
   "outputs": [],
   "source": [
    "def some_method(data):\n",
    "  a = data[:,0:2]\n",
    "  print a.get_shape()\n",
    "  c = data[:,1]\n",
    "  print c.get_shape()\n",
    "  s = (a + c)\n",
    "  return tf.sqrt(tf.matmul(s, tf.transpose(s)))\n",
    "\n",
    "with tf.Session() as sess:\n",
    "  fake_data = tf.constant([\n",
    "      [5.0, 3.0, 7.1],\n",
    "      [2.3, 4.1, 4.8],\n",
    "      [2.8, 4.2, 5.6],\n",
    "      [2.9, 8.3, 7.3]\n",
    "    ])\n",
    "  print sess.run(some_method(fake_data))"
   ]
  },
  {
   "cell_type": "code",
   "execution_count": 9,
   "metadata": {
    "collapsed": false,
    "deletable": true,
    "editable": true
   },
   "outputs": [
    {
     "name": "stdout",
     "output_type": "stream",
     "text": [
      "(4, 2)\n",
      "(4, 2)\n",
      "[[12.884487 11.878131 12.449096 15.721323]\n",
      " [11.878131 10.962208 11.489996 14.509306]\n",
      " [12.449096 11.489996 12.043255 15.207892]\n",
      " [15.721323 14.509306 15.207892 19.204166]]\n"
     ]
    }
   ],
   "source": [
    "def some_method(data):\n",
    "  a = data[:,0:2]\n",
    "  print a.get_shape()\n",
    "  c = data[:,1:3]\n",
    "  print c.get_shape()\n",
    "  s = (a + c)\n",
    "  return tf.sqrt(tf.matmul(s, tf.transpose(s)))\n",
    "\n",
    "with tf.Session() as sess:\n",
    "  fake_data = tf.constant([\n",
    "      [5.0, 3.0, 7.1],\n",
    "      [2.3, 4.1, 4.8],\n",
    "      [2.8, 4.2, 5.6],\n",
    "      [2.9, 8.3, 7.3]\n",
    "    ])\n",
    "  print sess.run(some_method(fake_data))"
   ]
  },
  {
   "cell_type": "code",
   "execution_count": 10,
   "metadata": {
    "collapsed": false,
    "deletable": true,
    "editable": true
   },
   "outputs": [
    {
     "name": "stdout",
     "output_type": "stream",
     "text": [
      "x.shape (3, 2)\n",
      "expanded.shape (3, 1, 2)\n",
      "sliced.shape (2, 1)\n",
      "expanded:  [[[3 2]]\n",
      "\n",
      " [[4 5]]\n",
      "\n",
      " [[6 7]]]\n",
      "sliced:  [[2]\n",
      " [5]]\n"
     ]
    }
   ],
   "source": [
    "import tensorflow as tf\n",
    "\n",
    "x = tf.constant([[3, 2],\n",
    "                 [4, 5],\n",
    "                 [6, 7]])\n",
    "print \"x.shape\", x.shape\n",
    "\n",
    "# http://docs.w3cub.com/tensorflow~python/tf/expand_dims/\n",
    "expanded = tf.expand_dims(x, 1)\n",
    "print \"expanded.shape\", expanded.shape\n",
    "\n",
    "# https://www.quora.com/How-does-tf-slice-work-in-TensorFlow\n",
    "sliced = tf.slice(x, [0, 1], [2, 1])\n",
    "print \"sliced.shape\", sliced.shape\n",
    "\n",
    "with tf.Session() as sess:\n",
    "  print \"expanded: \", expanded.eval()\n",
    "  print \"sliced: \", sliced.eval()"
   ]
  },
  {
   "cell_type": "markdown",
   "metadata": {
    "deletable": true,
    "editable": true
   },
   "source": [
    "# Vector vs scalar"
   ]
  },
  {
   "cell_type": "code",
   "execution_count": null,
   "metadata": {
    "collapsed": false,
    "deletable": true,
    "editable": true
   },
   "outputs": [],
   "source": [
    "def some_method(data):\n",
    "  print data.get_shape()\n",
    "  a = data[:,0:2]\n",
    "  print a.get_shape()\n",
    "  c = data[:,1:3]\n",
    "  print c.get_shape()\n",
    "  s = (a + c)\n",
    "  return tf.sqrt(tf.matmul(s, tf.transpose(s)))\n",
    "\n",
    "with tf.Session() as sess:\n",
    "  fake_data = tf.constant([5.0, 3.0, 7.1])\n",
    "  print sess.run(some_method(fake_data))"
   ]
  },
  {
   "cell_type": "code",
   "execution_count": 11,
   "metadata": {
    "collapsed": false,
    "deletable": true,
    "editable": true
   },
   "outputs": [
    {
     "name": "stdout",
     "output_type": "stream",
     "text": [
      "(1, 3)\n",
      "(1, 2)\n",
      "(1, 2)\n",
      "[[12.884487]]\n"
     ]
    }
   ],
   "source": [
    "def some_method(data):\n",
    "  print data.get_shape()\n",
    "  a = data[:,0:2]\n",
    "  print a.get_shape()\n",
    "  c = data[:,1:3]\n",
    "  print c.get_shape()\n",
    "  s = (a + c)\n",
    "  return tf.sqrt(tf.matmul(s, tf.transpose(s)))\n",
    "\n",
    "with tf.Session() as sess:\n",
    "  fake_data = tf.constant([5.0, 3.0, 7.1])\n",
    "  fake_data = tf.expand_dims(fake_data, 0)\n",
    "  print sess.run(some_method(fake_data))"
   ]
  },
  {
   "cell_type": "markdown",
   "metadata": {
    "deletable": true,
    "editable": true
   },
   "source": [
    "# Type error"
   ]
  },
  {
   "cell_type": "code",
   "execution_count": null,
   "metadata": {
    "collapsed": false,
    "deletable": true,
    "editable": true
   },
   "outputs": [],
   "source": [
    "def some_method(a, b):\n",
    "  s = (a + b)\n",
    "  return tf.sqrt(tf.matmul(s, tf.transpose(s)))\n",
    "\n",
    "with tf.Session() as sess:\n",
    "  fake_a = tf.constant([\n",
    "      [5.0, 3.0, 7.1],\n",
    "      [2.3, 4.1, 4.8],\n",
    "    ])\n",
    "  fake_b = tf.constant([\n",
    "      [2, 4, 5],\n",
    "      [2, 8, 7]\n",
    "    ])\n",
    "  print sess.run(some_method(fake_a, fake_b))"
   ]
  },
  {
   "cell_type": "code",
   "execution_count": 13,
   "metadata": {
    "collapsed": false,
    "deletable": true,
    "editable": true
   },
   "outputs": [
    {
     "name": "stdout",
     "output_type": "stream",
     "text": [
      "[[15.633617 16.0493  ]\n",
      " [16.0493   17.439611]]\n"
     ]
    }
   ],
   "source": [
    "def some_method(a, b):\n",
    "  b = tf.cast(b, tf.float32)\n",
    "  s = (a + b)\n",
    "  return tf.sqrt(tf.matmul(s, tf.transpose(s)))\n",
    "\n",
    "with tf.Session() as sess:\n",
    "  fake_a = tf.constant([\n",
    "      [5.0, 3.0, 7.1],\n",
    "      [2.3, 4.1, 4.8],\n",
    "    ])\n",
    "  fake_b = tf.constant([\n",
    "      [2, 4, 5],\n",
    "      [2, 8, 7]\n",
    "    ])\n",
    "  print sess.run(some_method(fake_a, fake_b))"
   ]
  },
  {
   "cell_type": "markdown",
   "metadata": {
    "deletable": true,
    "editable": true
   },
   "source": [
    "# TensorFlow debugger\n",
    "\n",
    "Wrap your normal Session object with tf_debug.LocalCLIDebugWrapperSession"
   ]
  },
  {
   "cell_type": "code",
   "execution_count": 14,
   "metadata": {
    "collapsed": false,
    "deletable": true,
    "editable": true
   },
   "outputs": [
    {
     "name": "stdout",
     "output_type": "stream",
     "text": [
      "run-start: run #1: 1 fetch (Sqrt_5:0); 2 feeds\n",
      "\n",
      "TTTTTT FFFF DDD  BBBB   GGG \n",
      "  TT   F    D  D B   B G    \n",
      "  TT   FFF  D  D BBBB  G  GG\n",
      "  TT   F    D  D B   B G   G\n",
      "  TT   F    DDD  BBBB   GGG \n",
      "\n",
      "======================================\n",
      "Session.run() call #1:\n",
      "\n",
      "Fetch(es):\n",
      "  Sqrt_5:0\n",
      "\n",
      "Feed dict:\n",
      "  Placeholder:0\n",
      "  Placeholder_1:0\n",
      "======================================\n",
      "\n",
      "Select one of the following commands to proceed ---->\n",
      "  run:\n",
      "    Execute the run() call with debug tensor-watching\n",
      "  run -n:\n",
      "    Execute the run() call without debug tensor-watching\n",
      "  run -t <T>:\n",
      "    Execute run() calls (T - 1) times without debugging, then execute run() once more with debugging and drop back to the CLI\n",
      "  run -f <filter_name>:\n",
      "    Keep executing run() calls until a dumped tensor passes a given, registered filter (conditional breakpoint mode)\n",
      "    Registered filter(s):\n",
      "        * has_inf_or_nan\n",
      "  invoke_stepper:\n",
      "    Use the node-stepper interface, which allows you to interactively step through nodes involved in the graph run() call and inspect/modify their values\n",
      "\n",
      "For more details, see help..\n",
      "\n",
      "\n",
      "tfdbg> run\n",
      "run-end: run #1: 1 fetch (Sqrt_5:0); 2 feeds\n",
      "6 dumped tensor(s):\n",
      "\n",
      "t (ms)   Size (B) Op type   Tensor name\n",
      "[0.000]  204      Cast      Cast_1:0\n",
      "[0.371]  198      RealDiv   div:0\n",
      "[0.493]  206      Const     transpose_5/sub_1:0\n",
      "[0.653]  214      Transpose transpose_5:0\n",
      "[0.743]  200      MatMul    MatMul_5:0\n",
      "[0.822]  196      Sqrt      Sqrt_5:0\n",
      "\n",
      "tfdbg> run -f has_inf_or_nan\n",
      "[[      inf       inf]\n",
      " [      inf 1.4336528]]\n"
     ]
    }
   ],
   "source": [
    "import tensorflow as tf\n",
    "from tensorflow.python import debug as tf_debug\n",
    "\n",
    "def some_method(a, b):\n",
    "  b = tf.cast(b, tf.float32)\n",
    "  s = (a / b)\n",
    "  s2 = tf.matmul(s, tf.transpose(s))\n",
    "  return tf.sqrt(s2)\n",
    "\n",
    "with tf.Session() as sess:\n",
    "  fake_a = [\n",
    "      [5.0, 3.0, 7.1],\n",
    "      [2.3, 4.1, 4.8],\n",
    "    ]\n",
    "  fake_b = [\n",
    "      [2, 0, 5],\n",
    "      [2, 8, 7]\n",
    "    ]\n",
    "  a = tf.placeholder(tf.float32, shape=[2, 3])\n",
    "  b = tf.placeholder(tf.int32, shape=[2, 3])\n",
    "  k = some_method(a, b)\n",
    "  \n",
    "  # Note: won't work without the ui_type=\"readline\" argument because\n",
    "  # Datalab is not an interactive terminal and doesn't support the default \"curses\" ui_type.\n",
    "  # If you are running this a standalone program, omit the ui_type parameter and add --debug\n",
    "  # when invoking the TensorFlow program\n",
    "  #      --debug (e.g: python debugger.py --debug )\n",
    "  sess = tf_debug.LocalCLIDebugWrapperSession(sess, ui_type=\"readline\")\n",
    "  sess.add_tensor_filter(\"has_inf_or_nan\", tf_debug.has_inf_or_nan)\n",
    "  print sess.run(k, feed_dict = {a: fake_a, b: fake_b})"
   ]
  },
  {
   "cell_type": "markdown",
   "metadata": {
    "deletable": true,
    "editable": true
   },
   "source": [
    "In the tfdbg> window that comes up, try the following:\n",
    "* run -f has_inf_or_nan\n",
    "* Notice that several tensors are dumped once the filter criterion is met\n",
    "* List the inputs to a specific tensor:\n",
    "* li transpose:0 \n",
    "* Print the value of a tensor\n",
    "* pt transpose:0\n",
    "* Where is the inf?\n",
    "\n",
    "Visit https://www.tensorflow.org/programmers_guide/debugger for usage details of tfdbg"
   ]
  },
  {
   "cell_type": "markdown",
   "metadata": {
    "deletable": true,
    "editable": true
   },
   "source": [
    "## tf.Print()"
   ]
  },
  {
   "cell_type": "code",
   "execution_count": 15,
   "metadata": {
    "collapsed": false,
    "deletable": true,
    "editable": true
   },
   "outputs": [
    {
     "name": "stdout",
     "output_type": "stream",
     "text": [
      "Writing debugger.py\n"
     ]
    }
   ],
   "source": [
    "%writefile debugger.py\n",
    "import tensorflow as tf\n",
    "\n",
    "# tf.Print needs to be used in standalone .py file\n",
    "def some_method(a, b):\n",
    "  b = tf.cast(b, tf.float32)\n",
    "  s = (a / b)\n",
    "  print_ab = tf.Print(s, [a, b])\n",
    "  s = tf.where(tf.is_nan(s), print_ab, s)\n",
    "  return tf.sqrt(tf.matmul(s, tf.transpose(s)))\n",
    "\n",
    "with tf.Session() as sess:\n",
    "  fake_a = tf.constant([\n",
    "      [5.0, 3.0, 7.1],\n",
    "      [2.3, 4.1, 4.8],\n",
    "    ])\n",
    "  fake_b = tf.constant([\n",
    "      [2, 0, 5],\n",
    "      [2, 8, 7]\n",
    "    ])\n",
    "  \n",
    "  print sess.run(some_method(fake_a, fake_b))"
   ]
  },
  {
   "cell_type": "code",
   "execution_count": 16,
   "metadata": {
    "collapsed": false,
    "deletable": true,
    "editable": true
   },
   "outputs": [
    {
     "name": "stdout",
     "output_type": "stream",
     "text": [
      "/usr/local/envs/py2env/lib/python2.7/site-packages/h5py/__init__.py:36: FutureWarning: Conversion of the second argument of issubdtype from `float` to `np.floating` is deprecated. In future, it will be treated as `np.float64 == np.dtype(float).type`.\n",
      "  from ._conv import register_converters as _register_converters\n",
      "2018-07-11 04:07:12.742517: I tensorflow/core/platform/cpu_feature_guard.cc:140] Your CPU supports instructions that this TensorFlow binary was not compiled to use: AVX2 FMA\n",
      "[[5 3 7.1]...][[2 0 5]...]\n",
      "[[      inf       inf]\n",
      " [      inf 1.4336528]]\n"
     ]
    }
   ],
   "source": [
    "!python debugger.py"
   ]
  },
  {
   "cell_type": "code",
   "execution_count": null,
   "metadata": {
    "collapsed": true
   },
   "outputs": [],
   "source": []
  }
 ],
 "metadata": {
  "kernelspec": {
   "display_name": "Python 2",
   "language": "python",
   "name": "python2"
  },
  "language_info": {
   "codemirror_mode": {
    "name": "ipython",
    "version": 2
   },
   "file_extension": ".py",
   "mimetype": "text/x-python",
   "name": "python",
   "nbconvert_exporter": "python",
   "pygments_lexer": "ipython2",
   "version": "2.7.15"
  }
 },
 "nbformat": 4,
 "nbformat_minor": 2
}
