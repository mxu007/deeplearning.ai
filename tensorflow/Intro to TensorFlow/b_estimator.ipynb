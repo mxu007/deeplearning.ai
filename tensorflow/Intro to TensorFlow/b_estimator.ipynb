{
 "cells": [
  {
   "cell_type": "markdown",
   "metadata": {
    "deletable": true,
    "editable": true
   },
   "source": [
    "<h1>2b. Machine Learning using tf.estimator </h1>\n",
    "\n",
    "In this notebook, we will create a machine learning model using tf.estimator and evaluate its performance.  The dataset is rather small (7700 samples), so we can do it all in-memory.  We will also simply pass the raw data in as-is. "
   ]
  },
  {
   "cell_type": "code",
   "execution_count": 1,
   "metadata": {
    "collapsed": false,
    "deletable": true,
    "editable": true
   },
   "outputs": [
    {
     "name": "stdout",
     "output_type": "stream",
     "text": [
      "1.8.0\n"
     ]
    },
    {
     "name": "stderr",
     "output_type": "stream",
     "text": [
      "/usr/local/envs/py2env/lib/python2.7/site-packages/h5py/__init__.py:36: FutureWarning: Conversion of the second argument of issubdtype from `float` to `np.floating` is deprecated. In future, it will be treated as `np.float64 == np.dtype(float).type`.\n",
      "  from ._conv import register_converters as _register_converters\n"
     ]
    }
   ],
   "source": [
    "import datalab.bigquery as bq\n",
    "import tensorflow as tf\n",
    "import pandas as pd\n",
    "import numpy as np\n",
    "import shutil\n",
    "\n",
    "print(tf.__version__)"
   ]
  },
  {
   "cell_type": "markdown",
   "metadata": {
    "deletable": true,
    "editable": true
   },
   "source": [
    "Read data created in the previous chapter."
   ]
  },
  {
   "cell_type": "code",
   "execution_count": 9,
   "metadata": {
    "collapsed": false,
    "deletable": true,
    "editable": true
   },
   "outputs": [
    {
     "name": "stdout",
     "output_type": "stream",
     "text": [
      "(7770, 7)\n",
      "(1665, 7)\n"
     ]
    }
   ],
   "source": [
    "# In CSV, label is the first column, after the features, followed by the key\n",
    "CSV_COLUMNS = ['fare_amount', 'pickuplon','pickuplat','dropofflon','dropofflat','passengers', 'key']\n",
    "FEATURES = CSV_COLUMNS[1:len(CSV_COLUMNS) - 1]\n",
    "LABEL = CSV_COLUMNS[0]\n",
    "\n",
    "\n",
    "df_train = pd.read_csv('./taxi-train.csv', header = None, names = CSV_COLUMNS)\n",
    "df_valid = pd.read_csv('./taxi-valid.csv', header = None, names = CSV_COLUMNS)\n",
    "\n",
    "print(df_train.shape)\n",
    "print(df_valid.shape)"
   ]
  },
  {
   "cell_type": "markdown",
   "metadata": {
    "deletable": true,
    "editable": true
   },
   "source": [
    "<h2> Input functions to read from Pandas Dataframe </h2>"
   ]
  },
  {
   "cell_type": "code",
   "execution_count": 3,
   "metadata": {
    "collapsed": false,
    "deletable": true,
    "editable": true
   },
   "outputs": [],
   "source": [
    "def make_input_fn(df, num_epochs):\n",
    "  return tf.estimator.inputs.pandas_input_fn(\n",
    "    x = df,\n",
    "    y = df[LABEL],\n",
    "    batch_size = 128,\n",
    "    num_epochs = num_epochs,\n",
    "    shuffle = True,\n",
    "    queue_capacity = 1000,\n",
    "    num_threads = 1\n",
    "  )"
   ]
  },
  {
   "cell_type": "markdown",
   "metadata": {
    "deletable": true,
    "editable": true
   },
   "source": [
    "Our input function for predictions is the same except we don't provide a label"
   ]
  },
  {
   "cell_type": "code",
   "execution_count": 4,
   "metadata": {
    "collapsed": true,
    "deletable": true,
    "editable": true
   },
   "outputs": [],
   "source": [
    "def make_prediction_input_fn(df, num_epochs):\n",
    "  return tf.estimator.inputs.pandas_input_fn(\n",
    "    x = df,\n",
    "    y = None,\n",
    "    batch_size = 128,\n",
    "    num_epochs = num_epochs,\n",
    "    shuffle = True,\n",
    "    queue_capacity = 1000,\n",
    "    num_threads = 1\n",
    "  )"
   ]
  },
  {
   "cell_type": "markdown",
   "metadata": {
    "deletable": true,
    "editable": true
   },
   "source": [
    "### Create feature columns for estimator"
   ]
  },
  {
   "cell_type": "code",
   "execution_count": 5,
   "metadata": {
    "collapsed": true,
    "deletable": true,
    "editable": true
   },
   "outputs": [],
   "source": [
    "def make_feature_cols():\n",
    "  input_columns = [tf.feature_column.numeric_column(k) for k in FEATURES]\n",
    "  return input_columns"
   ]
  },
  {
   "cell_type": "markdown",
   "metadata": {
    "deletable": true,
    "editable": true
   },
   "source": [
    "<h3> Linear Regression with tf.Estimator framework </h3>"
   ]
  },
  {
   "cell_type": "code",
   "execution_count": 6,
   "metadata": {
    "collapsed": false,
    "deletable": true,
    "editable": true
   },
   "outputs": [
    {
     "name": "stdout",
     "output_type": "stream",
     "text": [
      "INFO:tensorflow:Using default config.\n",
      "INFO:tensorflow:Using config: {'_save_checkpoints_secs': 600, '_session_config': None, '_keep_checkpoint_max': 5, '_task_type': 'worker', '_train_distribute': None, '_is_chief': True, '_cluster_spec': <tensorflow.python.training.server_lib.ClusterSpec object at 0x7fd291750390>, '_evaluation_master': '', '_save_checkpoints_steps': None, '_keep_checkpoint_every_n_hours': 10000, '_service': None, '_num_ps_replicas': 0, '_tf_random_seed': None, '_master': '', '_num_worker_replicas': 1, '_task_id': 0, '_log_step_count_steps': 100, '_model_dir': 'taxi_trained', '_global_id_in_cluster': 0, '_save_summary_steps': 100}\n",
      "INFO:tensorflow:Calling model_fn.\n",
      "INFO:tensorflow:Done calling model_fn.\n",
      "INFO:tensorflow:Create CheckpointSaverHook.\n",
      "INFO:tensorflow:Graph was finalized.\n",
      "INFO:tensorflow:Running local_init_op.\n",
      "INFO:tensorflow:Done running local_init_op.\n",
      "INFO:tensorflow:Saving checkpoints for 1 into taxi_trained/model.ckpt.\n",
      "INFO:tensorflow:loss = 27922.723, step = 1\n",
      "INFO:tensorflow:global_step/sec: 188.617\n",
      "INFO:tensorflow:loss = 7562.532, step = 101 (0.536 sec)\n",
      "INFO:tensorflow:global_step/sec: 215.245\n",
      "INFO:tensorflow:loss = 10081.93, step = 201 (0.467 sec)\n",
      "INFO:tensorflow:global_step/sec: 189.001\n",
      "INFO:tensorflow:loss = 9379.096, step = 301 (0.526 sec)\n",
      "INFO:tensorflow:global_step/sec: 251.863\n",
      "INFO:tensorflow:loss = 8442.541, step = 401 (0.397 sec)\n",
      "INFO:tensorflow:global_step/sec: 291.087\n",
      "INFO:tensorflow:loss = 9603.449, step = 501 (0.342 sec)\n",
      "INFO:tensorflow:global_step/sec: 272.31\n",
      "INFO:tensorflow:loss = 14027.007, step = 601 (0.371 sec)\n",
      "INFO:tensorflow:Saving checkpoints for 608 into taxi_trained/model.ckpt.\n",
      "INFO:tensorflow:Loss for final step: 28.24937.\n"
     ]
    },
    {
     "data": {
      "text/plain": [
       "<tensorflow.python.estimator.canned.linear.LinearRegressor at 0x7fd292df6590>"
      ]
     },
     "execution_count": 6,
     "metadata": {},
     "output_type": "execute_result"
    }
   ],
   "source": [
    "tf.logging.set_verbosity(tf.logging.INFO)\n",
    "\n",
    "OUTDIR = 'taxi_trained'\n",
    "shutil.rmtree(OUTDIR, ignore_errors = True) # start fresh each time, Delete an entire directory tree\n",
    "\n",
    "model = tf.estimator.LinearRegressor(\n",
    "      feature_columns = make_feature_cols(), model_dir = OUTDIR)\n",
    "\n",
    "model.train(input_fn = make_input_fn(df_train, num_epochs = 10))"
   ]
  },
  {
   "cell_type": "markdown",
   "metadata": {
    "deletable": true,
    "editable": true
   },
   "source": [
    "Evaluate on the validation data (we should defer using the test data to after we have selected a final model)."
   ]
  },
  {
   "cell_type": "code",
   "execution_count": 7,
   "metadata": {
    "collapsed": false,
    "deletable": true,
    "editable": true
   },
   "outputs": [
    {
     "name": "stdout",
     "output_type": "stream",
     "text": [
      "INFO:tensorflow:Calling model_fn.\n",
      "INFO:tensorflow:Done calling model_fn.\n",
      "INFO:tensorflow:Starting evaluation at 2018-07-07-15:26:18\n",
      "INFO:tensorflow:Graph was finalized.\n",
      "INFO:tensorflow:Restoring parameters from taxi_trained/model.ckpt-608\n",
      "INFO:tensorflow:Running local_init_op.\n",
      "INFO:tensorflow:Done running local_init_op.\n",
      "INFO:tensorflow:Finished evaluation at 2018-07-07-15:26:18\n",
      "INFO:tensorflow:Saving dict for global step 608: average_loss = 112.06594, global_step = 608, loss = 13327.843\n",
      "RMSE on validation dataset = 10.5861206055\n"
     ]
    }
   ],
   "source": [
    "def print_rmse(model, name, df):\n",
    "  metrics = model.evaluate(input_fn = make_input_fn(df, 1))\n",
    "  print('RMSE on {} dataset = {}'.format(name, np.sqrt(metrics['average_loss'])))\n",
    "print_rmse(model, 'validation', df_valid)"
   ]
  },
  {
   "cell_type": "markdown",
   "metadata": {
    "deletable": true,
    "editable": true
   },
   "source": [
    "This is nowhere near our benchmark (RMSE of $6 or so on this data), but it serves to demonstrate what TensorFlow code looks like.  Let's use this model for prediction."
   ]
  },
  {
   "cell_type": "code",
   "execution_count": 10,
   "metadata": {
    "collapsed": false,
    "deletable": true,
    "editable": true
   },
   "outputs": [
    {
     "name": "stdout",
     "output_type": "stream",
     "text": [
      "INFO:tensorflow:Calling model_fn.\n",
      "INFO:tensorflow:Done calling model_fn.\n",
      "INFO:tensorflow:Graph was finalized.\n",
      "INFO:tensorflow:Restoring parameters from taxi_trained/model.ckpt-608\n",
      "INFO:tensorflow:Running local_init_op.\n",
      "INFO:tensorflow:Done running local_init_op.\n",
      "{'predictions': array([9.822866], dtype=float32)}\n",
      "{'predictions': array([9.8226385], dtype=float32)}\n",
      "{'predictions': array([9.822665], dtype=float32)}\n",
      "{'predictions': array([9.823897], dtype=float32)}\n",
      "{'predictions': array([9.822368], dtype=float32)}\n"
     ]
    }
   ],
   "source": [
    "predictions = model.predict(input_fn = make_prediction_input_fn(df_valid, 1))\n",
    "for i in xrange(5):\n",
    "  print(predictions.next())"
   ]
  },
  {
   "cell_type": "markdown",
   "metadata": {
    "deletable": true,
    "editable": true
   },
   "source": [
    "This explains why the RMSE was so high -- the model essentially predicts the same amount for every trip.  Would a more complex model help? Let's try using a deep neural network.  The code to do this is quite straightforward as well."
   ]
  },
  {
   "cell_type": "markdown",
   "metadata": {
    "deletable": true,
    "editable": true
   },
   "source": [
    "<h3> Deep Neural Network regression </h3>"
   ]
  },
  {
   "cell_type": "code",
   "execution_count": 11,
   "metadata": {
    "collapsed": false,
    "deletable": true,
    "editable": true
   },
   "outputs": [
    {
     "name": "stdout",
     "output_type": "stream",
     "text": [
      "INFO:tensorflow:Using default config.\n",
      "INFO:tensorflow:Using config: {'_save_checkpoints_secs': 600, '_session_config': None, '_keep_checkpoint_max': 5, '_task_type': 'worker', '_train_distribute': None, '_is_chief': True, '_cluster_spec': <tensorflow.python.training.server_lib.ClusterSpec object at 0x7fd2504156d0>, '_evaluation_master': '', '_save_checkpoints_steps': None, '_keep_checkpoint_every_n_hours': 10000, '_service': None, '_num_ps_replicas': 0, '_tf_random_seed': None, '_master': '', '_num_worker_replicas': 1, '_task_id': 0, '_log_step_count_steps': 100, '_model_dir': 'taxi_trained', '_global_id_in_cluster': 0, '_save_summary_steps': 100}\n",
      "INFO:tensorflow:Calling model_fn.\n",
      "INFO:tensorflow:Done calling model_fn.\n",
      "INFO:tensorflow:Create CheckpointSaverHook.\n",
      "INFO:tensorflow:Graph was finalized.\n",
      "INFO:tensorflow:Running local_init_op.\n",
      "INFO:tensorflow:Done running local_init_op.\n",
      "INFO:tensorflow:Saving checkpoints for 1 into taxi_trained/model.ckpt.\n",
      "INFO:tensorflow:loss = 22607.898, step = 1\n",
      "INFO:tensorflow:global_step/sec: 225.817\n",
      "INFO:tensorflow:loss = 24756.047, step = 101 (0.450 sec)\n",
      "INFO:tensorflow:global_step/sec: 238.869\n",
      "INFO:tensorflow:loss = 31068.066, step = 201 (0.422 sec)\n",
      "INFO:tensorflow:global_step/sec: 195.364\n",
      "INFO:tensorflow:loss = 15136.227, step = 301 (0.509 sec)\n",
      "INFO:tensorflow:global_step/sec: 242.098\n",
      "INFO:tensorflow:loss = 14450.03, step = 401 (0.410 sec)\n",
      "INFO:tensorflow:global_step/sec: 216.901\n",
      "INFO:tensorflow:loss = 19217.146, step = 501 (0.461 sec)\n",
      "INFO:tensorflow:global_step/sec: 271.437\n",
      "INFO:tensorflow:loss = 22360.043, step = 601 (0.370 sec)\n",
      "INFO:tensorflow:global_step/sec: 204.402\n",
      "INFO:tensorflow:loss = 15854.667, step = 701 (0.488 sec)\n",
      "INFO:tensorflow:global_step/sec: 236.889\n",
      "INFO:tensorflow:loss = 24524.95, step = 801 (0.422 sec)\n",
      "INFO:tensorflow:global_step/sec: 225.453\n",
      "INFO:tensorflow:loss = 22358.082, step = 901 (0.448 sec)\n",
      "INFO:tensorflow:global_step/sec: 222.611\n",
      "INFO:tensorflow:loss = 21626.8, step = 1001 (0.447 sec)\n",
      "INFO:tensorflow:global_step/sec: 232.133\n",
      "INFO:tensorflow:loss = 18384.805, step = 1101 (0.431 sec)\n",
      "INFO:tensorflow:global_step/sec: 202.336\n",
      "INFO:tensorflow:loss = 13463.204, step = 1201 (0.492 sec)\n",
      "INFO:tensorflow:global_step/sec: 239.045\n",
      "INFO:tensorflow:loss = 14642.313, step = 1301 (0.421 sec)\n",
      "INFO:tensorflow:global_step/sec: 204.327\n",
      "INFO:tensorflow:loss = 12022.403, step = 1401 (0.490 sec)\n",
      "INFO:tensorflow:global_step/sec: 239.427\n",
      "INFO:tensorflow:loss = 16735.645, step = 1501 (0.415 sec)\n",
      "INFO:tensorflow:global_step/sec: 215.736\n",
      "INFO:tensorflow:loss = 22352.037, step = 1601 (0.466 sec)\n",
      "INFO:tensorflow:global_step/sec: 231.986\n",
      "INFO:tensorflow:loss = 10856.898, step = 1701 (0.429 sec)\n",
      "INFO:tensorflow:global_step/sec: 205.98\n",
      "INFO:tensorflow:loss = 27288.777, step = 1801 (0.485 sec)\n",
      "INFO:tensorflow:global_step/sec: 234.833\n",
      "INFO:tensorflow:loss = 22231.902, step = 1901 (0.427 sec)\n",
      "INFO:tensorflow:global_step/sec: 229.554\n",
      "INFO:tensorflow:loss = 18874.047, step = 2001 (0.436 sec)\n",
      "INFO:tensorflow:global_step/sec: 228.55\n",
      "INFO:tensorflow:loss = 16679.15, step = 2101 (0.439 sec)\n",
      "INFO:tensorflow:global_step/sec: 242.128\n",
      "INFO:tensorflow:loss = 8645.779, step = 2201 (0.409 sec)\n",
      "INFO:tensorflow:global_step/sec: 238.629\n",
      "INFO:tensorflow:loss = 14215.893, step = 2301 (0.422 sec)\n",
      "INFO:tensorflow:global_step/sec: 267.003\n",
      "INFO:tensorflow:loss = 11630.076, step = 2401 (0.372 sec)\n",
      "INFO:tensorflow:global_step/sec: 247.918\n",
      "INFO:tensorflow:loss = 21010.535, step = 2501 (0.407 sec)\n",
      "INFO:tensorflow:global_step/sec: 291.171\n",
      "INFO:tensorflow:loss = 17908.39, step = 2601 (0.340 sec)\n",
      "INFO:tensorflow:global_step/sec: 293.811\n",
      "INFO:tensorflow:loss = 19421.707, step = 2701 (0.342 sec)\n",
      "INFO:tensorflow:global_step/sec: 262.48\n",
      "INFO:tensorflow:loss = 16951.613, step = 2801 (0.380 sec)\n",
      "INFO:tensorflow:global_step/sec: 280.524\n",
      "INFO:tensorflow:loss = 15726.891, step = 2901 (0.362 sec)\n",
      "INFO:tensorflow:global_step/sec: 252.23\n",
      "INFO:tensorflow:loss = 21063.984, step = 3001 (0.392 sec)\n",
      "INFO:tensorflow:global_step/sec: 253.035\n",
      "INFO:tensorflow:loss = 10373.475, step = 3101 (0.393 sec)\n",
      "INFO:tensorflow:global_step/sec: 265.168\n",
      "INFO:tensorflow:loss = 12204.361, step = 3201 (0.379 sec)\n",
      "INFO:tensorflow:global_step/sec: 216.62\n",
      "INFO:tensorflow:loss = 16865.672, step = 3301 (0.467 sec)\n",
      "INFO:tensorflow:global_step/sec: 258.982\n",
      "INFO:tensorflow:loss = 14218.234, step = 3401 (0.379 sec)\n",
      "INFO:tensorflow:global_step/sec: 252.62\n",
      "INFO:tensorflow:loss = 26745.152, step = 3501 (0.398 sec)\n",
      "INFO:tensorflow:global_step/sec: 219.066\n",
      "INFO:tensorflow:loss = 19471.094, step = 3601 (0.455 sec)\n",
      "INFO:tensorflow:global_step/sec: 246.137\n",
      "INFO:tensorflow:loss = 18557.01, step = 3701 (0.412 sec)\n",
      "INFO:tensorflow:global_step/sec: 219.361\n",
      "INFO:tensorflow:loss = 16307.705, step = 3801 (0.450 sec)\n",
      "INFO:tensorflow:global_step/sec: 262.686\n",
      "INFO:tensorflow:loss = 21806.393, step = 3901 (0.380 sec)\n",
      "INFO:tensorflow:global_step/sec: 276.412\n",
      "INFO:tensorflow:loss = 15419.97, step = 4001 (0.364 sec)\n",
      "INFO:tensorflow:global_step/sec: 230.935\n",
      "INFO:tensorflow:loss = 13694.938, step = 4101 (0.431 sec)\n",
      "INFO:tensorflow:global_step/sec: 256.757\n",
      "INFO:tensorflow:loss = 14314.285, step = 4201 (0.392 sec)\n",
      "INFO:tensorflow:global_step/sec: 204.123\n",
      "INFO:tensorflow:loss = 11599.513, step = 4301 (0.488 sec)\n",
      "INFO:tensorflow:global_step/sec: 243.552\n",
      "INFO:tensorflow:loss = 14002.989, step = 4401 (0.412 sec)\n",
      "INFO:tensorflow:global_step/sec: 200.104\n",
      "INFO:tensorflow:loss = 11997.431, step = 4501 (0.500 sec)\n",
      "INFO:tensorflow:global_step/sec: 244.956\n",
      "INFO:tensorflow:loss = 6615.225, step = 4601 (0.408 sec)\n",
      "INFO:tensorflow:global_step/sec: 215.084\n",
      "INFO:tensorflow:loss = 8282.9, step = 4701 (0.463 sec)\n",
      "INFO:tensorflow:global_step/sec: 241.276\n",
      "INFO:tensorflow:loss = 16473.71, step = 4801 (0.414 sec)\n",
      "INFO:tensorflow:global_step/sec: 217.861\n",
      "INFO:tensorflow:loss = 16831.234, step = 4901 (0.461 sec)\n",
      "INFO:tensorflow:global_step/sec: 194.847\n",
      "INFO:tensorflow:loss = 15308.42, step = 5001 (0.515 sec)\n",
      "INFO:tensorflow:global_step/sec: 190.607\n",
      "INFO:tensorflow:loss = 17129.422, step = 5101 (0.524 sec)\n",
      "INFO:tensorflow:global_step/sec: 168.699\n",
      "INFO:tensorflow:loss = 14643.618, step = 5201 (0.589 sec)\n",
      "INFO:tensorflow:global_step/sec: 170.979\n",
      "INFO:tensorflow:loss = 11466.891, step = 5301 (0.588 sec)\n",
      "INFO:tensorflow:global_step/sec: 251.443\n",
      "INFO:tensorflow:loss = 13229.127, step = 5401 (0.394 sec)\n",
      "INFO:tensorflow:global_step/sec: 179.732\n",
      "INFO:tensorflow:loss = 7348.4404, step = 5501 (0.558 sec)\n",
      "INFO:tensorflow:global_step/sec: 211.837\n",
      "INFO:tensorflow:loss = 18591.871, step = 5601 (0.471 sec)\n",
      "INFO:tensorflow:global_step/sec: 221.103\n",
      "INFO:tensorflow:loss = 9877.371, step = 5701 (0.454 sec)\n",
      "INFO:tensorflow:global_step/sec: 254.995\n",
      "INFO:tensorflow:loss = 14227.63, step = 5801 (0.389 sec)\n",
      "INFO:tensorflow:global_step/sec: 297.208\n",
      "INFO:tensorflow:loss = 12612.345, step = 5901 (0.336 sec)\n",
      "INFO:tensorflow:global_step/sec: 294.178\n",
      "INFO:tensorflow:loss = 8042.277, step = 6001 (0.340 sec)\n",
      "INFO:tensorflow:Saving checkpoints for 6071 into taxi_trained/model.ckpt.\n",
      "INFO:tensorflow:Loss for final step: 2990.2446.\n",
      "INFO:tensorflow:Calling model_fn.\n",
      "INFO:tensorflow:Done calling model_fn.\n",
      "INFO:tensorflow:Starting evaluation at 2018-07-07-15:32:59\n",
      "INFO:tensorflow:Graph was finalized.\n",
      "INFO:tensorflow:Restoring parameters from taxi_trained/model.ckpt-6071\n",
      "INFO:tensorflow:Running local_init_op.\n",
      "INFO:tensorflow:Done running local_init_op.\n",
      "INFO:tensorflow:Finished evaluation at 2018-07-07-15:32:59\n",
      "INFO:tensorflow:Saving dict for global step 6071: average_loss = 134.89545, global_step = 6071, loss = 16042.922\n",
      "RMSE on validation dataset = 11.614449501\n"
     ]
    }
   ],
   "source": [
    "tf.logging.set_verbosity(tf.logging.INFO)\n",
    "shutil.rmtree(OUTDIR, ignore_errors = True) # start fresh each time\n",
    "model = tf.estimator.DNNRegressor(hidden_units = [32, 8, 2],\n",
    "      feature_columns = make_feature_cols(), model_dir = OUTDIR)\n",
    "model.train(input_fn = make_input_fn(df_train, num_epochs = 100));\n",
    "print_rmse(model, 'validation', df_valid)"
   ]
  },
  {
   "cell_type": "markdown",
   "metadata": {
    "deletable": true,
    "editable": true
   },
   "source": [
    "We are not beating our benchmark with either model ... what's up?  Well, we may be using TensorFlow for Machine Learning, but we are not yet using it well.  That's what the rest of this course is about!\n",
    "\n",
    "But, for the record, let's say we had to choose between the two models. We'd choose the one with the lower validation error. Finally, we'd measure the RMSE on the test data with this chosen model."
   ]
  },
  {
   "cell_type": "markdown",
   "metadata": {
    "deletable": true,
    "editable": true
   },
   "source": [
    "<h2> Benchmark dataset </h2>\n",
    "\n",
    "Let's do this on the benchmark dataset."
   ]
  },
  {
   "cell_type": "code",
   "execution_count": 12,
   "metadata": {
    "collapsed": false,
    "deletable": true,
    "editable": true
   },
   "outputs": [],
   "source": [
    "import datalab.bigquery as bq\n",
    "import numpy as np\n",
    "import pandas as pd\n",
    "\n",
    "\n",
    "def create_query(phase, EVERY_N):\n",
    "  \"\"\"\n",
    "  phase: 1 = train 2 = valid\n",
    "  \"\"\"\n",
    "  base_query = \"\"\"\n",
    "SELECT\n",
    "  (tolls_amount + fare_amount) AS fare_amount,\n",
    "  CONCAT(STRING(pickup_datetime), STRING(pickup_longitude), STRING(pickup_latitude), STRING(dropoff_latitude), STRING(dropoff_longitude)) AS key,\n",
    "  DAYOFWEEK(pickup_datetime)*1.0 AS dayofweek,\n",
    "  HOUR(pickup_datetime)*1.0 AS hourofday,\n",
    "  pickup_longitude AS pickuplon,\n",
    "  pickup_latitude AS pickuplat,\n",
    "  dropoff_longitude AS dropofflon,\n",
    "  dropoff_latitude AS dropofflat,\n",
    "  passenger_count*1.0 AS passengers,\n",
    "FROM\n",
    "  [nyc-tlc:yellow.trips]\n",
    "WHERE\n",
    "  trip_distance > 0\n",
    "  AND fare_amount >= 2.5\n",
    "  AND pickup_longitude > -78\n",
    "  AND pickup_longitude < -70\n",
    "  AND dropoff_longitude > -78\n",
    "  AND dropoff_longitude < -70\n",
    "  AND pickup_latitude > 37\n",
    "  AND pickup_latitude < 45\n",
    "  AND dropoff_latitude > 37\n",
    "  AND dropoff_latitude < 45\n",
    "  AND passenger_count > 0\n",
    "  \"\"\"\n",
    "\n",
    "  if EVERY_N == None:\n",
    "    if phase < 2:\n",
    "      # Training\n",
    "      query = \"{0} AND ABS(HASH(pickup_datetime)) % 4 < 2\".format(base_query)\n",
    "    else:\n",
    "      # Validation\n",
    "      query = \"{0} AND ABS(HASH(pickup_datetime)) % 4 == {1}\".format(base_query, phase)\n",
    "  else:\n",
    "    query = \"{0} AND ABS(HASH(pickup_datetime)) % {1} == {2}\".format(base_query, EVERY_N, phase)\n",
    "    \n",
    "  return query\n",
    "\n",
    "query = create_query(2, 100000)\n",
    "df = bq.Query(query).to_dataframe()"
   ]
  },
  {
   "cell_type": "code",
   "execution_count": 13,
   "metadata": {
    "collapsed": false,
    "deletable": true,
    "editable": true
   },
   "outputs": [
    {
     "name": "stdout",
     "output_type": "stream",
     "text": [
      "INFO:tensorflow:Calling model_fn.\n",
      "INFO:tensorflow:Done calling model_fn.\n",
      "INFO:tensorflow:Starting evaluation at 2018-07-07-15:33:54\n",
      "INFO:tensorflow:Graph was finalized.\n",
      "INFO:tensorflow:Restoring parameters from taxi_trained/model.ckpt-6071\n",
      "INFO:tensorflow:Running local_init_op.\n",
      "INFO:tensorflow:Done running local_init_op.\n",
      "INFO:tensorflow:Finished evaluation at 2018-07-07-15:33:54\n",
      "INFO:tensorflow:Saving dict for global step 6071: average_loss = 111.36388, global_step = 6071, loss = 14154.635\n",
      "RMSE on benchmark dataset = 10.5529088974\n"
     ]
    }
   ],
   "source": [
    "print_rmse(model, 'benchmark', df)"
   ]
  },
  {
   "cell_type": "markdown",
   "metadata": {
    "deletable": true,
    "editable": true
   },
   "source": [
    "RMSE on benchmark dataset is <b>9.41</b> (your results will vary because of random seeds).\n",
    "\n",
    "This is not only way more than our original benchmark of 6.00, but it doesn't even beat our distance-based rule's RMSE of 8.02.\n",
    "\n",
    "Fear not -- you have learned how to write a TensorFlow model, but not to do all the things that you will have to do to your ML model performant. We will do this in the next chapters. In this chapter though, we will get our TensorFlow model ready for these improvements.\n",
    "\n",
    "In a software sense, the rest of the labs in this chapter will be about refactoring the code so that we can improve it."
   ]
  },
  {
   "cell_type": "markdown",
   "metadata": {
    "deletable": true,
    "editable": true
   },
   "source": [
    "## Challenge Exercise\n",
    "\n",
    "Create a neural network that is capable of finding the volume of a cylinder given the radius of its base (r) and its height (h). Assume that the radius and height of the cylinder are both in the range 0.5 to 2.0. Simulate the necessary training dataset.\n",
    "<p>\n",
    "Hint (highlight to see):\n",
    "<p style='color:white'>\n",
    "The input features will be r and h and the label will be $\\pi r^2 h$\n",
    "Create random values for r and h and compute V.\n",
    "Your dataset will consist of r, h and V.\n",
    "Then, use a DNN regressor.\n",
    "Make sure to generate enough data.\n",
    "</p>"
   ]
  },
  {
   "cell_type": "markdown",
   "metadata": {
    "deletable": true,
    "editable": true
   },
   "source": [
    "Copyright 2017 Google Inc. Licensed under the Apache License, Version 2.0 (the \"License\"); you may not use this file except in compliance with the License. You may obtain a copy of the License at http://www.apache.org/licenses/LICENSE-2.0 Unless required by applicable law or agreed to in writing, software distributed under the License is distributed on an \"AS IS\" BASIS, WITHOUT WARRANTIES OR CONDITIONS OF ANY KIND, either express or implied. See the License for the specific language governing permissions and limitations under the License"
   ]
  }
 ],
 "metadata": {
  "kernelspec": {
   "display_name": "Python 2",
   "language": "python",
   "name": "python2"
  },
  "language_info": {
   "codemirror_mode": {
    "name": "ipython",
    "version": 2
   },
   "file_extension": ".py",
   "mimetype": "text/x-python",
   "name": "python",
   "nbconvert_exporter": "python",
   "pygments_lexer": "ipython2",
   "version": "2.7.15"
  }
 },
 "nbformat": 4,
 "nbformat_minor": 0
}
