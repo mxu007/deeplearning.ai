{
  "nbformat": 4,
  "nbformat_minor": 0,
  "metadata": {
    "colab": {
      "name": "3-imdb.ipynb",
      "version": "0.3.2",
      "provenance": [],
      "collapsed_sections": [],
      "include_colab_link": true
    }
  },
  "cells": [
    {
      "cell_type": "markdown",
      "metadata": {
        "id": "view-in-github",
        "colab_type": "text"
      },
      "source": [
        "[View in Colaboratory](https://colab.research.google.com/github/mxu007/deeplearning.ai/blob/master/tensorflow/notebooks/3-imdb.ipynb)"
      ]
    },
    {
      "metadata": {
        "id": "ItXfxkxvosLH",
        "colab_type": "text"
      },
      "cell_type": "markdown",
      "source": [
        "# Classifying movie reviews with tf.keras, tf.data, and eager execution.\n",
        "\n",
        "In this lab you'll learn how to classify a movie review as positive or negative on the [IMDB dataset](https://www.tensorflow.org/api_docs/python/tf/keras/datasets/imdb). This tutorial was inspired by [this work](https://github.com/fchollet/deep-learning-with-python-notebooks/blob/master/3.5-classifying-movie-reviews.ipynb). Here, we'll use tf.keras and tf.data."
      ]
    },
    {
      "metadata": {
        "id": "2ew7HTbPpCJH",
        "colab_type": "code",
        "colab": {
          "base_uri": "https://localhost:8080/",
          "height": 17
        },
        "outputId": "9cd937ed-f407-458a-ab41-78abf348b9ea"
      },
      "cell_type": "code",
      "source": [
        "!pip install -q -U tensorflow==1.8.0\n",
        "import tensorflow as tf\n",
        "\n",
        "# Enable eager execution\n",
        "tf.enable_eager_execution()\n",
        "\n",
        "import numpy as np"
      ],
      "execution_count": 1,
      "outputs": []
    },
    {
      "metadata": {
        "id": "iAsKG535pHep",
        "colab_type": "text"
      },
      "cell_type": "markdown",
      "source": [
        "# A first look at the dataset\n",
        "\n",
        "### Step 1) Downloading the dataset\n",
        "\n",
        "The \"IMDB dataset\" is a set of around 50,000 positive or negative reviews for movies from the Internet Movie Database. Let's use the TensorFlow API to download the dataset the same way we did for MNIST. The `num_words` argument is how many of the most popular words we will keep. All other \"rare\" words will be discarded."
      ]
    },
    {
      "metadata": {
        "id": "zXXx5Oc3pOmN",
        "colab_type": "code",
        "colab": {
          "base_uri": "https://localhost:8080/",
          "height": 17
        },
        "outputId": "4d465689-dc0a-43d6-8b16-9caf12eb6b90"
      },
      "cell_type": "code",
      "source": [
        "(train_data, train_labels), (test_data, test_labels) = tf.keras.datasets.imdb.load_data(num_words=10000)"
      ],
      "execution_count": 2,
      "outputs": []
    },
    {
      "metadata": {
        "id": "l50X3GfjpU4r",
        "colab_type": "text"
      },
      "cell_type": "markdown",
      "source": [
        "### Step 2) Exploring the dataset \n",
        "\n",
        "The dataset comes preprocessed. Each example is an array of integers representing the words of the movie review. Each label is either a \"0\" for negative or \"1\" for positive."
      ]
    },
    {
      "metadata": {
        "id": "QtTS4kpEpjbi",
        "colab_type": "code",
        "colab": {
          "base_uri": "https://localhost:8080/",
          "height": 105
        },
        "outputId": "38bbd1df-2b8e-4db9-8b53-2224c67a5ccb"
      },
      "cell_type": "code",
      "source": [
        "print(train_data.shape)\n",
        "print(train_labels.shape)\n",
        "print(train_data[0])\n",
        "print(train_labels[0])"
      ],
      "execution_count": 3,
      "outputs": [
        {
          "output_type": "stream",
          "text": [
            "(25000,)\n",
            "(25000,)\n",
            "[1, 14, 22, 16, 43, 530, 973, 1622, 1385, 65, 458, 4468, 66, 3941, 4, 173, 36, 256, 5, 25, 100, 43, 838, 112, 50, 670, 2, 9, 35, 480, 284, 5, 150, 4, 172, 112, 167, 2, 336, 385, 39, 4, 172, 4536, 1111, 17, 546, 38, 13, 447, 4, 192, 50, 16, 6, 147, 2025, 19, 14, 22, 4, 1920, 4613, 469, 4, 22, 71, 87, 12, 16, 43, 530, 38, 76, 15, 13, 1247, 4, 22, 17, 515, 17, 12, 16, 626, 18, 2, 5, 62, 386, 12, 8, 316, 8, 106, 5, 4, 2223, 5244, 16, 480, 66, 3785, 33, 4, 130, 12, 16, 38, 619, 5, 25, 124, 51, 36, 135, 48, 25, 1415, 33, 6, 22, 12, 215, 28, 77, 52, 5, 14, 407, 16, 82, 2, 8, 4, 107, 117, 5952, 15, 256, 4, 2, 7, 3766, 5, 723, 36, 71, 43, 530, 476, 26, 400, 317, 46, 7, 4, 2, 1029, 13, 104, 88, 4, 381, 15, 297, 98, 32, 2071, 56, 26, 141, 6, 194, 7486, 18, 4, 226, 22, 21, 134, 476, 26, 480, 5, 144, 30, 5535, 18, 51, 36, 28, 224, 92, 25, 104, 4, 226, 65, 16, 38, 1334, 88, 12, 16, 283, 5, 16, 4472, 113, 103, 32, 15, 16, 5345, 19, 178, 32]\n",
            "1\n"
          ],
          "name": "stdout"
        }
      ]
    },
    {
      "metadata": {
        "id": "3KmM0e64pok8",
        "colab_type": "text"
      },
      "cell_type": "markdown",
      "source": [
        "\n",
        "### Word indexing\n",
        "\n",
        "To prove we have limited ourselves to the 10,000 most frequent words we will iterate over all the reviews and check the maximum value. "
      ]
    },
    {
      "metadata": {
        "id": "GvgpnR2ppqHd",
        "colab_type": "code",
        "colab": {
          "base_uri": "https://localhost:8080/",
          "height": 34
        },
        "outputId": "0420f579-99a0-48d8-d365-7f4ffe170d6f"
      },
      "cell_type": "code",
      "source": [
        "print(max([max(review) for review in train_data]))"
      ],
      "execution_count": 4,
      "outputs": [
        {
          "output_type": "stream",
          "text": [
            "9999\n"
          ],
          "name": "stdout"
        }
      ]
    },
    {
      "metadata": {
        "id": "4wJg2FiYpuoX",
        "colab_type": "text"
      },
      "cell_type": "markdown",
      "source": [
        "### Converting the integers back to words\n",
        "\n",
        "We can get the dictionary from `tf.keras.datasets.imdb.get_word_index` which hashes the words to their corresponding integers. Let's try and convert a review from integers back into it's original text by first reversing this dictionary and then iterating over a review and converting the integers to strings."
      ]
    },
    {
      "metadata": {
        "id": "sXhqWupK159W",
        "colab_type": "code",
        "colab": {
          "base_uri": "https://localhost:8080/",
          "height": 173
        },
        "outputId": "18598dc0-b80d-4b30-806e-6dcc13e9c79a"
      },
      "cell_type": "code",
      "source": [
        "print(train_data.shape)\n",
        "print(train_data)\n"
      ],
      "execution_count": 5,
      "outputs": [
        {
          "output_type": "stream",
          "text": [
            "(25000,)\n",
            "[list([1, 14, 22, 16, 43, 530, 973, 1622, 1385, 65, 458, 4468, 66, 3941, 4, 173, 36, 256, 5, 25, 100, 43, 838, 112, 50, 670, 2, 9, 35, 480, 284, 5, 150, 4, 172, 112, 167, 2, 336, 385, 39, 4, 172, 4536, 1111, 17, 546, 38, 13, 447, 4, 192, 50, 16, 6, 147, 2025, 19, 14, 22, 4, 1920, 4613, 469, 4, 22, 71, 87, 12, 16, 43, 530, 38, 76, 15, 13, 1247, 4, 22, 17, 515, 17, 12, 16, 626, 18, 2, 5, 62, 386, 12, 8, 316, 8, 106, 5, 4, 2223, 5244, 16, 480, 66, 3785, 33, 4, 130, 12, 16, 38, 619, 5, 25, 124, 51, 36, 135, 48, 25, 1415, 33, 6, 22, 12, 215, 28, 77, 52, 5, 14, 407, 16, 82, 2, 8, 4, 107, 117, 5952, 15, 256, 4, 2, 7, 3766, 5, 723, 36, 71, 43, 530, 476, 26, 400, 317, 46, 7, 4, 2, 1029, 13, 104, 88, 4, 381, 15, 297, 98, 32, 2071, 56, 26, 141, 6, 194, 7486, 18, 4, 226, 22, 21, 134, 476, 26, 480, 5, 144, 30, 5535, 18, 51, 36, 28, 224, 92, 25, 104, 4, 226, 65, 16, 38, 1334, 88, 12, 16, 283, 5, 16, 4472, 113, 103, 32, 15, 16, 5345, 19, 178, 32])\n",
            " list([1, 194, 1153, 194, 8255, 78, 228, 5, 6, 1463, 4369, 5012, 134, 26, 4, 715, 8, 118, 1634, 14, 394, 20, 13, 119, 954, 189, 102, 5, 207, 110, 3103, 21, 14, 69, 188, 8, 30, 23, 7, 4, 249, 126, 93, 4, 114, 9, 2300, 1523, 5, 647, 4, 116, 9, 35, 8163, 4, 229, 9, 340, 1322, 4, 118, 9, 4, 130, 4901, 19, 4, 1002, 5, 89, 29, 952, 46, 37, 4, 455, 9, 45, 43, 38, 1543, 1905, 398, 4, 1649, 26, 6853, 5, 163, 11, 3215, 2, 4, 1153, 9, 194, 775, 7, 8255, 2, 349, 2637, 148, 605, 2, 8003, 15, 123, 125, 68, 2, 6853, 15, 349, 165, 4362, 98, 5, 4, 228, 9, 43, 2, 1157, 15, 299, 120, 5, 120, 174, 11, 220, 175, 136, 50, 9, 4373, 228, 8255, 5, 2, 656, 245, 2350, 5, 4, 9837, 131, 152, 491, 18, 2, 32, 7464, 1212, 14, 9, 6, 371, 78, 22, 625, 64, 1382, 9, 8, 168, 145, 23, 4, 1690, 15, 16, 4, 1355, 5, 28, 6, 52, 154, 462, 33, 89, 78, 285, 16, 145, 95])\n",
            " list([1, 14, 47, 8, 30, 31, 7, 4, 249, 108, 7, 4, 5974, 54, 61, 369, 13, 71, 149, 14, 22, 112, 4, 2401, 311, 12, 16, 3711, 33, 75, 43, 1829, 296, 4, 86, 320, 35, 534, 19, 263, 4821, 1301, 4, 1873, 33, 89, 78, 12, 66, 16, 4, 360, 7, 4, 58, 316, 334, 11, 4, 1716, 43, 645, 662, 8, 257, 85, 1200, 42, 1228, 2578, 83, 68, 3912, 15, 36, 165, 1539, 278, 36, 69, 2, 780, 8, 106, 14, 6905, 1338, 18, 6, 22, 12, 215, 28, 610, 40, 6, 87, 326, 23, 2300, 21, 23, 22, 12, 272, 40, 57, 31, 11, 4, 22, 47, 6, 2307, 51, 9, 170, 23, 595, 116, 595, 1352, 13, 191, 79, 638, 89, 2, 14, 9, 8, 106, 607, 624, 35, 534, 6, 227, 7, 129, 113])\n",
            " ...\n",
            " list([1, 11, 6, 230, 245, 6401, 9, 6, 1225, 446, 2, 45, 2174, 84, 8322, 4007, 21, 4, 912, 84, 2, 325, 725, 134, 2, 1715, 84, 5, 36, 28, 57, 1099, 21, 8, 140, 8, 703, 5, 2, 84, 56, 18, 1644, 14, 9, 31, 7, 4, 9406, 1209, 2295, 2, 1008, 18, 6, 20, 207, 110, 563, 12, 8, 2901, 2, 8, 97, 6, 20, 53, 4767, 74, 4, 460, 364, 1273, 29, 270, 11, 960, 108, 45, 40, 29, 2961, 395, 11, 6, 4065, 500, 7, 2, 89, 364, 70, 29, 140, 4, 64, 4780, 11, 4, 2678, 26, 178, 4, 529, 443, 2, 5, 27, 710, 117, 2, 8123, 165, 47, 84, 37, 131, 818, 14, 595, 10, 10, 61, 1242, 1209, 10, 10, 288, 2260, 1702, 34, 2901, 2, 4, 65, 496, 4, 231, 7, 790, 5, 6, 320, 234, 2766, 234, 1119, 1574, 7, 496, 4, 139, 929, 2901, 2, 7750, 5, 4241, 18, 4, 8497, 2, 250, 11, 1818, 7561, 4, 4217, 5408, 747, 1115, 372, 1890, 1006, 541, 9303, 7, 4, 59, 2, 4, 3586, 2])\n",
            " list([1, 1446, 7079, 69, 72, 3305, 13, 610, 930, 8, 12, 582, 23, 5, 16, 484, 685, 54, 349, 11, 4120, 2959, 45, 58, 1466, 13, 197, 12, 16, 43, 23, 2, 5, 62, 30, 145, 402, 11, 4131, 51, 575, 32, 61, 369, 71, 66, 770, 12, 1054, 75, 100, 2198, 8, 4, 105, 37, 69, 147, 712, 75, 3543, 44, 257, 390, 5, 69, 263, 514, 105, 50, 286, 1814, 23, 4, 123, 13, 161, 40, 5, 421, 4, 116, 16, 897, 13, 2, 40, 319, 5872, 112, 6700, 11, 4803, 121, 25, 70, 3468, 4, 719, 3798, 13, 18, 31, 62, 40, 8, 7200, 4, 2, 7, 14, 123, 5, 942, 25, 8, 721, 12, 145, 5, 202, 12, 160, 580, 202, 12, 6, 52, 58, 2, 92, 401, 728, 12, 39, 14, 251, 8, 15, 251, 5, 2, 12, 38, 84, 80, 124, 12, 9, 23])\n",
            " list([1, 17, 6, 194, 337, 7, 4, 204, 22, 45, 254, 8, 106, 14, 123, 4, 2, 270, 2, 5, 2, 2, 732, 2098, 101, 405, 39, 14, 1034, 4, 1310, 9, 115, 50, 305, 12, 47, 4, 168, 5, 235, 7, 38, 111, 699, 102, 7, 4, 4039, 9245, 9, 24, 6, 78, 1099, 17, 2345, 2, 21, 27, 9685, 6139, 5, 2, 1603, 92, 1183, 4, 1310, 7, 4, 204, 42, 97, 90, 35, 221, 109, 29, 127, 27, 118, 8, 97, 12, 157, 21, 6789, 2, 9, 6, 66, 78, 1099, 4, 631, 1191, 5, 2642, 272, 191, 1070, 6, 7585, 8, 2197, 2, 2, 544, 5, 383, 1271, 848, 1468, 2, 497, 2, 8, 1597, 8778, 2, 21, 60, 27, 239, 9, 43, 8368, 209, 405, 10, 10, 12, 764, 40, 4, 248, 20, 12, 16, 5, 174, 1791, 72, 7, 51, 6, 1739, 22, 4, 204, 131, 9])]\n"
          ],
          "name": "stdout"
        }
      ]
    },
    {
      "metadata": {
        "id": "tr5s_1alpzop",
        "colab_type": "code",
        "colab": {
          "base_uri": "https://localhost:8080/",
          "height": 105
        },
        "outputId": "c4470109-ee55-469c-de5d-2a9dcf934dcd"
      },
      "cell_type": "code",
      "source": [
        "# Dictionary that hashes words to their integer\n",
        "word_to_integer = tf.keras.datasets.imdb.get_word_index()\n",
        "\n",
        "# Print out the first ten keys in the dictionary\n",
        "print(list(word_to_integer.keys())[0:10])\n",
        "\n",
        "integer_to_word = dict([(value, key) for (key, value) in word_to_integer.items()])\n",
        "\n",
        "# Demonstrate how to find the word from an integer\n",
        "print(integer_to_word[1])\n",
        "print(integer_to_word[2])\n",
        "\n",
        "# We need to subtract 3 from the indices because 0 is \"padding\", 1 is \"start of sequence\", and 2 is \"unknown\"\n",
        "decoded_review = ' '.join([integer_to_word.get(i - 3, 'UNK') for i in train_data[0]])\n",
        "print(decoded_review)"
      ],
      "execution_count": 6,
      "outputs": [
        {
          "output_type": "stream",
          "text": [
            "[u'fawn', u'tsukino', u'nunnery', u'sonja', u'vani', u'woods', u'spiders', u'hanging', u'woody', u'trawling']\n",
            "the\n",
            "and\n",
            "UNK this film was just brilliant casting location scenery story direction everyone's really suited the part they played and you could just imagine being there robert UNK is an amazing actor and now the same being director UNK father came from the same scottish island as myself so i loved the fact there was a real connection with this film the witty remarks throughout the film were great it was just brilliant so much that i bought the film as soon as it was released for UNK and would recommend it to everyone to watch and the fly fishing was amazing really cried at the end it was so sad and you know what they say if you cry at a film it must have been good and this definitely was also UNK to the two little boy's that played the UNK of norman and paul they were just brilliant children are often left out of the UNK list i think because the stars that play them all grown up are such a big profile for the whole film but these children are amazing and should be praised for what they have done don't you think the whole story was so lovely because it was true and was someone's life after all that was shared with us all\n"
          ],
          "name": "stdout"
        }
      ]
    },
    {
      "metadata": {
        "id": "lFP_XKVRp4_S",
        "colab_type": "text"
      },
      "cell_type": "markdown",
      "source": [
        "### Step 3) Format the data\n",
        "Unfortunately, we cannot just feed unformatted arrays into our neural network. We need to standardize the input. Here, we are going to multi-hot-encode our review which is an array of integers into a 10,000 dimensional vector. We will place 1's in the indices of word-integers that occur in the review, and 0's everywhere else.\n"
      ]
    },
    {
      "metadata": {
        "id": "NG4K-OtdqC0a",
        "colab_type": "code",
        "colab": {
          "base_uri": "https://localhost:8080/",
          "height": 85
        },
        "outputId": "83840855-c936-4a09-dad3-d85ce87e1f91"
      },
      "cell_type": "code",
      "source": [
        "def vectorize_sequences(sequences, dimension=10000):\n",
        "    # Create an all-zero matrix of shape (len(sequences), dimension)\n",
        "    results = np.zeros((len(sequences), dimension), dtype=np.float32)\n",
        "    print(results.shape)\n",
        "    \n",
        "    for i, sequence in enumerate(sequences):\n",
        "        results[i, sequence] = 1.  # set specific indices of results[i] to 1s\n",
        "    return results\n",
        "\n",
        "train_data = vectorize_sequences(train_data)\n",
        "test_data = vectorize_sequences(test_data)\n",
        "\n",
        "print(train_data.shape) # length is same as before\n",
        "print(train_data[0]) # now, multi-hot encoded\n",
        "\n",
        "# Vectorize the labels as well and reshape from (N, ) to (N, 1)\n",
        "train_labels = np.reshape(np.asarray(train_labels, dtype=np.float32), (len(train_data), 1))\n",
        "test_labels = np.reshape(np.asarray(test_labels, dtype=np.float32), (len(test_data), 1))"
      ],
      "execution_count": 7,
      "outputs": [
        {
          "output_type": "stream",
          "text": [
            "(25000, 10000)\n",
            "(25000, 10000)\n",
            "(25000, 10000)\n",
            "[0. 1. 1. ... 0. 0. 0.]\n"
          ],
          "name": "stdout"
        }
      ]
    },
    {
      "metadata": {
        "id": "jeYlLZlrqYjq",
        "colab_type": "text"
      },
      "cell_type": "markdown",
      "source": [
        "### Step 4) Create the model\n",
        "\n",
        "Now that we have vectorized input, we're ready to build our neural network. We're going to use multiple hidden layers, each with 16 hidden units. The more layers and hidden units you have, the more complicated patterns the network can recognize and learn. \n",
        "\n",
        "* The downside is that a large number potentially leads to [overfitting](https://developers.google.com/machine-learning/crash-course/generalization/peril-of-overfitting) by finding patterns that may only exist in your training not (and not generalize to unseen testing data down the road).\n",
        "\n",
        "Instead of softmax as in the previous notebook, here our last activation will be a sigmoid. This will take the output of the first two layers and \"squish\" it into a number between 0 and 1 (the network's prediction for the review)."
      ]
    },
    {
      "metadata": {
        "id": "uVOGq_eirutM",
        "colab_type": "code",
        "colab": {
          "base_uri": "https://localhost:8080/",
          "height": 238
        },
        "outputId": "fc3a130d-69fe-40b0-a471-3445fdae5543"
      },
      "cell_type": "code",
      "source": [
        "# Create a model\n",
        "model = tf.keras.Sequential()\n",
        "\n",
        " # input shape here is the length of our movie review vector\n",
        "model.add(tf.keras.layers.Dense(16, activation=tf.nn.relu, input_shape=(10000,)))\n",
        "model.add(tf.keras.layers.Dense(16, activation=tf.nn.relu))\n",
        "model.add(tf.keras.layers.Dense(1, activation=tf.nn.sigmoid))\n",
        "\n",
        "optimizer = tf.train.RMSPropOptimizer(learning_rate=0.001)\n",
        "\n",
        "model.compile(loss='binary_crossentropy',\n",
        "              optimizer=optimizer,\n",
        "              metrics=['binary_accuracy'])\n",
        "\n",
        "model.summary()"
      ],
      "execution_count": 8,
      "outputs": [
        {
          "output_type": "stream",
          "text": [
            "_________________________________________________________________\n",
            "Layer (type)                 Output Shape              Param #   \n",
            "=================================================================\n",
            "dense_1 (Dense)              (None, 16)                160016    \n",
            "_________________________________________________________________\n",
            "dense_2 (Dense)              (None, 16)                272       \n",
            "_________________________________________________________________\n",
            "dense_3 (Dense)              (None, 1)                 17        \n",
            "=================================================================\n",
            "Total params: 160,305\n",
            "Trainable params: 160,305\n",
            "Non-trainable params: 0\n",
            "_________________________________________________________________\n"
          ],
          "name": "stdout"
        }
      ]
    },
    {
      "metadata": {
        "id": "nIBgYoE1sCmw",
        "colab_type": "text"
      },
      "cell_type": "markdown",
      "source": [
        "### Step 5) Create a validation set\n",
        "\n",
        "We want to test our model on data it hasn't seen before, but before we get our final test accuracy. We'll call this dataset our validation set. In practice, it's used to tune parameters like your learning rate, or the number of layers / units in your model."
      ]
    },
    {
      "metadata": {
        "id": "CfoGOjesswbb",
        "colab_type": "code",
        "colab": {
          "base_uri": "https://localhost:8080/",
          "height": 17
        },
        "outputId": "40e3ed22-ab70-4cf1-f9da-e1d07b652676"
      },
      "cell_type": "code",
      "source": [
        "VAL_SIZE = 10000\n",
        "\n",
        "val_data = train_data[:VAL_SIZE]\n",
        "partial_train_data = train_data[VAL_SIZE:]\n",
        "\n",
        "\n",
        "val_labels = train_labels[:VAL_SIZE]\n",
        "partial_train_labels = train_labels[VAL_SIZE:]"
      ],
      "execution_count": 9,
      "outputs": []
    },
    {
      "metadata": {
        "id": "GBvKRJIts5U4",
        "colab_type": "text"
      },
      "cell_type": "markdown",
      "source": [
        "### Step 6) Create a tf.data Dataset\n",
        "As before, we're working with a small in-memory dataset, so converting to tf.data isn't essential, just good practice for down the road. See the previous notebook or the `tf.data.Dataset` [API doc](https://www.tensorflow.org/api_docs/python/tf/data) for more info."
      ]
    },
    {
      "metadata": {
        "id": "dz9EDovvtGa6",
        "colab_type": "code",
        "colab": {
          "base_uri": "https://localhost:8080/",
          "height": 17
        },
        "outputId": "4c480994-50af-4bcd-a213-e96306861eef"
      },
      "cell_type": "code",
      "source": [
        "BATCH_SIZE = 512\n",
        "SHUFFLE_SIZE = 1000\n",
        "\n",
        "training_set = tf.data.Dataset.from_tensor_slices((partial_train_data, partial_train_labels))\n",
        "training_set = training_set.shuffle(SHUFFLE_SIZE).batch(BATCH_SIZE)"
      ],
      "execution_count": 10,
      "outputs": []
    },
    {
      "metadata": {
        "id": "nh9l8Cdfte8g",
        "colab_type": "text"
      },
      "cell_type": "markdown",
      "source": [
        "### Step 7) Training your model\n",
        "Now we are going to train the model. As we go, we'll keep track of the training loss, training accuracy, validation loss, and validation accuracy. \n",
        "\n",
        "Please be patient as this step may take a while."
      ]
    },
    {
      "metadata": {
        "id": "_UVH5tQqtcxc",
        "colab_type": "code",
        "colab": {
          "base_uri": "https://localhost:8080/",
          "height": 357
        },
        "outputId": "49faac19-98ff-45b1-e8f6-0aca512842d3"
      },
      "cell_type": "code",
      "source": [
        "EPOCHS = 10\n",
        "\n",
        "# Store list of metric values for plotting later\n",
        "tr_loss_list = []\n",
        "tr_accuracy_list = []\n",
        "val_loss_list = []\n",
        "val_accuracy_list = []\n",
        "\n",
        "for epoch in range(EPOCHS):\n",
        "  for reviews, labels in training_set:\n",
        "    # Calculate training loss and accuracy\n",
        "    tr_loss, tr_accuracy = model.train_on_batch(reviews, labels)\n",
        "  \n",
        "  # Calculate validation loss and accuracy\n",
        "  val_loss, val_accuracy = model.evaluate(val_data, val_labels)\n",
        "\n",
        "  # Add to the lists\n",
        "  tr_loss_list.append(tr_loss)\n",
        "  tr_accuracy_list.append(tr_accuracy)\n",
        "  val_loss_list.append(val_loss)\n",
        "  val_accuracy_list.append(val_accuracy)\n",
        "  \n",
        "  print(('Epoch #%d\\t Training Loss: %.2f\\tTraining Accuracy: %.2f\\t'\n",
        "         'Validation Loss: %.2f\\tValidation Accuracy: %.2f')\n",
        "         % (epoch + 1, tr_loss, tr_accuracy,\n",
        "         val_loss, val_accuracy))"
      ],
      "execution_count": 11,
      "outputs": [
        {
          "output_type": "stream",
          "text": [
            "10000/10000 [==============================] - 1s 63us/step\n",
            "Epoch #1\t Training Loss: 0.69\tTraining Accuracy: 0.45\tValidation Loss: 0.69\tValidation Accuracy: 0.51\n",
            "10000/10000 [==============================] - 1s 68us/step\n",
            "Epoch #2\t Training Loss: 0.69\tTraining Accuracy: 0.57\tValidation Loss: 0.69\tValidation Accuracy: 0.53\n",
            "10000/10000 [==============================] - 1s 68us/step\n",
            "Epoch #3\t Training Loss: 0.65\tTraining Accuracy: 0.70\tValidation Loss: 0.66\tValidation Accuracy: 0.68\n",
            "10000/10000 [==============================] - 1s 69us/step\n",
            "Epoch #4\t Training Loss: 0.46\tTraining Accuracy: 0.84\tValidation Loss: 0.50\tValidation Accuracy: 0.80\n",
            "10000/10000 [==============================] - 1s 69us/step\n",
            "Epoch #5\t Training Loss: 0.38\tTraining Accuracy: 0.88\tValidation Loss: 0.36\tValidation Accuracy: 0.87\n",
            "10000/10000 [==============================] - 1s 66us/step\n",
            "Epoch #6\t Training Loss: 0.29\tTraining Accuracy: 0.87\tValidation Loss: 0.32\tValidation Accuracy: 0.88\n",
            "10000/10000 [==============================] - 1s 68us/step\n",
            "Epoch #7\t Training Loss: 0.24\tTraining Accuracy: 0.87\tValidation Loss: 0.32\tValidation Accuracy: 0.87\n",
            "10000/10000 [==============================] - 1s 66us/step\n",
            "Epoch #8\t Training Loss: 0.16\tTraining Accuracy: 0.96\tValidation Loss: 0.28\tValidation Accuracy: 0.89\n",
            "10000/10000 [==============================] - 1s 67us/step\n"
          ],
          "name": "stdout"
        },
        {
          "output_type": "stream",
          "text": [
            "Epoch #9\t Training Loss: 0.16\tTraining Accuracy: 0.97\tValidation Loss: 0.33\tValidation Accuracy: 0.87\n",
            "10000/10000 [==============================] - 1s 67us/step\n",
            "Epoch #10\t Training Loss: 0.13\tTraining Accuracy: 0.95\tValidation Loss: 0.30\tValidation Accuracy: 0.89\n"
          ],
          "name": "stdout"
        }
      ]
    },
    {
      "metadata": {
        "id": "xNzTBpLBvPPn",
        "colab_type": "text"
      },
      "cell_type": "markdown",
      "source": [
        "### Step 8) Plotting loss and accuracy\n",
        "We are going to use `matplotlib` to plot our training and validation metrics."
      ]
    },
    {
      "metadata": {
        "id": "kcBHF0rKt4Rn",
        "colab_type": "code",
        "colab": {
          "base_uri": "https://localhost:8080/",
          "height": 376
        },
        "outputId": "30683e2d-18d3-4bce-c5a8-52af379688da"
      },
      "cell_type": "code",
      "source": [
        "import matplotlib.pyplot as plt\n",
        "\n",
        "epochs = range(1, EPOCHS + 1)\n",
        "\n",
        "# \"bo\" specifies \"blue dot\"\n",
        "plt.plot(epochs, tr_loss_list, 'bo', label='Training loss')\n",
        "# b specifies a \"solid blue line\"\n",
        "plt.plot(epochs, val_loss_list, 'b', label='Validation loss')\n",
        "plt.title('Training and validation loss')\n",
        "plt.xlabel('Epochs')\n",
        "plt.ylabel('Loss')\n",
        "plt.legend()\n",
        "\n",
        "plt.show()"
      ],
      "execution_count": 12,
      "outputs": [
        {
          "output_type": "display_data",
          "data": {
            "image/png": "[encoded data removed]",
            "text/plain": [
              "<matplotlib.figure.Figure at 0x7faec43c6950>"
            ]
          },
          "metadata": {
            "tags": []
          }
        }
      ]
    },
    {
      "metadata": {
        "id": "sx1Vg_1qvT5D",
        "colab_type": "code",
        "colab": {
          "base_uri": "https://localhost:8080/",
          "height": 376
        },
        "outputId": "db7f849b-d57a-4f62-b7ef-c1a7dada61a4"
      },
      "cell_type": "code",
      "source": [
        "plt.clf()   # Clear plot\n",
        "\n",
        "plt.plot(epochs, tr_accuracy_list, 'bo', label='Training accuracy')\n",
        "plt.plot(epochs, val_accuracy_list, 'b', label='Validation accuracy')\n",
        "plt.title('Training and validation accuracy')\n",
        "plt.xlabel('Epochs')\n",
        "plt.ylabel('Accuracy')\n",
        "plt.legend()\n",
        "\n",
        "plt.show()"
      ],
      "execution_count": 13,
      "outputs": [
        {
          "output_type": "display_data",
          "data": {
            "image/png": "[encoded data removed]",
            "text/plain": [
              "<matplotlib.figure.Figure at 0x7faec38d8590>"
            ]
          },
          "metadata": {
            "tags": []
          }
        }
      ]
    },
    {
      "metadata": {
        "id": "rX_qklYwvak2",
        "colab_type": "text"
      },
      "cell_type": "markdown",
      "source": [
        "### Step 9) Testing your model\n",
        "Now that we have successfully trained our model and our training accuracy has jumped over 95%, we need to test it on an entirely different dataset. We are going to run our model on the test set. The test accuracy is a better evaluation metric for how our model will perform in the real world. "
      ]
    },
    {
      "metadata": {
        "id": "Oghmxes4vhs-",
        "colab_type": "code",
        "colab": {
          "base_uri": "https://localhost:8080/",
          "height": 51
        },
        "outputId": "7da1db92-36c5-4f3a-fdf8-27301e8c42ab"
      },
      "cell_type": "code",
      "source": [
        "loss, accuracy = model.evaluate(test_data, test_labels)\n",
        "print('Test accuracy: %.2f' % (accuracy))"
      ],
      "execution_count": 14,
      "outputs": [
        {
          "output_type": "stream",
          "text": [
            "25000/25000 [==============================] - 1s 59us/step\n",
            "Test accuracy: 0.88\n"
          ],
          "name": "stdout"
        }
      ]
    },
    {
      "metadata": {
        "id": "bl7gZC_lvxyD",
        "colab_type": "text"
      },
      "cell_type": "markdown",
      "source": [
        "## Congratulations\n",
        "You have successfully trained a model on the IMDB dataset."
      ]
    }
  ]
}