{
  "nbformat": 4,
  "nbformat_minor": 0,
  "metadata": {
    "colab": {
      "name": "5-conv-draft.ipynb",
      "version": "0.3.2",
      "provenance": [],
      "include_colab_link": true
    }
  },
  "cells": [
    {
      "cell_type": "markdown",
      "metadata": {
        "id": "view-in-github",
        "colab_type": "text"
      },
      "source": [
        "[View in Colaboratory](https://colab.research.google.com/github/mxu007/deeplearning.ai/blob/master/tensorflow/notebooks/5-conv-draft.ipynb)"
      ]
    },
    {
      "metadata": {
        "id": "JguZ3NBZUkpo",
        "colab_type": "text"
      },
      "cell_type": "markdown",
      "source": [
        "# Introduction to Convolutional Neural Networks (convnets or CNNs) with tf.keras, tf.data, and eager execution.\n",
        "\n",
        "For this tutorial we will look at a convnet problem. Like the first tutorial, we will classify MNIST digits. This tutorial was inspired by [this one](https://github.com/fchollet/deep-learning-with-python-notebooks/blob/master/5.1-introduction-to-convnets.ipynb)."
      ]
    },
    {
      "metadata": {
        "id": "qWT31nsxURdJ",
        "colab_type": "code",
        "colab": {
          "base_uri": "https://localhost:8080/",
          "height": 17
        },
        "outputId": "5b261778-f483-4a56-b612-62d168d50c75"
      },
      "cell_type": "code",
      "source": [
        "!pip install -q -U tensorflow==1.8.0\n",
        "import tensorflow as tf\n",
        "\n",
        "import numpy as np\n",
        "\n",
        "# Enable Eager mode. Re-running this cell will fail. Restart the Runtime to re-enable Eager.\n",
        "tf.enable_eager_execution()"
      ],
      "execution_count": 1,
      "outputs": []
    },
    {
      "metadata": {
        "id": "vNCKRyhQVSWO",
        "colab_type": "code",
        "colab": {
          "base_uri": "https://localhost:8080/",
          "height": 17
        },
        "outputId": "a232f6ee-8e2e-41b4-df39-ea72bc8cfe77"
      },
      "cell_type": "code",
      "source": [
        "(train_images, train_labels), (test_images, test_labels) = tf.keras.datasets.mnist.load_data()"
      ],
      "execution_count": 2,
      "outputs": []
    },
    {
      "metadata": {
        "id": "5eDlt-AnVafg",
        "colab_type": "code",
        "colab": {
          "base_uri": "https://localhost:8080/",
          "height": 17
        },
        "outputId": "d3a8708d-7c12-4d15-e5a9-673b04889600"
      },
      "cell_type": "code",
      "source": [
        "TRAINING_SIZE = len(train_images)\n",
        "TEST_SIZE = len(test_images)\n",
        "\n",
        "train_images = np.asarray(train_images, dtype=np.float32) / 255\n",
        "\n",
        "# Convert the train images and add channels\n",
        "train_images = train_images.reshape((TRAINING_SIZE, 28, 28, 1))\n",
        "\n",
        "test_images = np.asarray(test_images, dtype=np.float32) / 255\n",
        "# Convert the train images and add channels\n",
        "test_images = test_images.reshape((TEST_SIZE, 28, 28, 1))"
      ],
      "execution_count": 3,
      "outputs": []
    },
    {
      "metadata": {
        "id": "YNi4TNvlVcIB",
        "colab_type": "code",
        "colab": {
          "base_uri": "https://localhost:8080/",
          "height": 17
        },
        "outputId": "9274b6e7-e084-4575-c30f-628127ef0bd7"
      },
      "cell_type": "code",
      "source": [
        "# How many digits we are predicting from (0-9)\n",
        "LABEL_DIMENSIONS = 10\n",
        "\n",
        "train_labels  = tf.keras.utils.to_categorical(train_labels, LABEL_DIMENSIONS)\n",
        "test_labels = tf.keras.utils.to_categorical(test_labels, LABEL_DIMENSIONS)\n",
        "\n",
        "# Cast the labels to floats, needed later\n",
        "train_labels = train_labels.astype(np.float32)\n",
        "test_labels = test_labels.astype(np.float32)"
      ],
      "execution_count": 4,
      "outputs": []
    },
    {
      "metadata": {
        "id": "iHaND5a6Vc-B",
        "colab_type": "code",
        "colab": {
          "base_uri": "https://localhost:8080/",
          "height": 306
        },
        "outputId": "2c63953e-acf1-4859-d3e8-315280c564d6"
      },
      "cell_type": "code",
      "source": [
        "model = tf.keras.Sequential()\n",
        "\n",
        "model.add(tf.keras.layers.Conv2D(filters=32, kernel_size=(3, 3), activation=tf.nn.relu, input_shape=(28, 28, 1)))\n",
        "model.add(tf.keras.layers.MaxPooling2D(pool_size=(2, 2), strides=2))\n",
        "model.add(tf.keras.layers.Conv2D(filters=64, kernel_size=(3, 3), activation=tf.nn.relu))\n",
        "model.add(tf.keras.layers.MaxPooling2D(pool_size=(2, 2), strides=2))\n",
        "model.add(tf.keras.layers.Conv2D(filters=64, kernel_size=(3, 3), activation=tf.nn.relu))\n",
        "\n",
        "model.summary()"
      ],
      "execution_count": 5,
      "outputs": [
        {
          "output_type": "stream",
          "text": [
            "_________________________________________________________________\n",
            "Layer (type)                 Output Shape              Param #   \n",
            "=================================================================\n",
            "conv2d_1 (Conv2D)            (None, 26, 26, 32)        320       \n",
            "_________________________________________________________________\n",
            "max_pooling2d_1 (MaxPooling2 (None, 13, 13, 32)        0         \n",
            "_________________________________________________________________\n",
            "conv2d_2 (Conv2D)            (None, 11, 11, 64)        18496     \n",
            "_________________________________________________________________\n",
            "max_pooling2d_2 (MaxPooling2 (None, 5, 5, 64)          0         \n",
            "_________________________________________________________________\n",
            "conv2d_3 (Conv2D)            (None, 3, 3, 64)          36928     \n",
            "=================================================================\n",
            "Total params: 55,744\n",
            "Trainable params: 55,744\n",
            "Non-trainable params: 0\n",
            "_________________________________________________________________\n"
          ],
          "name": "stdout"
        }
      ]
    },
    {
      "metadata": {
        "id": "8EOBhY6xVd1S",
        "colab_type": "code",
        "colab": {
          "base_uri": "https://localhost:8080/",
          "height": 17
        },
        "outputId": "c4013af2-e42c-454a-8440-58096c6a7227"
      },
      "cell_type": "code",
      "source": [
        "model.add(tf.keras.layers.Flatten())\n",
        "model.add(tf.keras.layers.Dense(64, activation=tf.nn.relu))\n",
        "model.add(tf.keras.layers.Dense(10, activation=tf.nn.softmax))"
      ],
      "execution_count": 6,
      "outputs": []
    },
    {
      "metadata": {
        "id": "SVUAOoeXVfQA",
        "colab_type": "code",
        "colab": {
          "base_uri": "https://localhost:8080/",
          "height": 408
        },
        "outputId": "fdda46d5-87eb-4f9a-ea4f-03b3fd0b7c95"
      },
      "cell_type": "code",
      "source": [
        "optimizer = tf.train.RMSPropOptimizer(learning_rate=0.001)\n",
        "\n",
        "model.compile(loss='categorical_crossentropy',\n",
        "              optimizer=optimizer,\n",
        "              metrics=['accuracy'])\n",
        "\n",
        "model.summary()"
      ],
      "execution_count": 7,
      "outputs": [
        {
          "output_type": "stream",
          "text": [
            "_________________________________________________________________\n",
            "Layer (type)                 Output Shape              Param #   \n",
            "=================================================================\n",
            "conv2d_1 (Conv2D)            (None, 26, 26, 32)        320       \n",
            "_________________________________________________________________\n",
            "max_pooling2d_1 (MaxPooling2 (None, 13, 13, 32)        0         \n",
            "_________________________________________________________________\n",
            "conv2d_2 (Conv2D)            (None, 11, 11, 64)        18496     \n",
            "_________________________________________________________________\n",
            "max_pooling2d_2 (MaxPooling2 (None, 5, 5, 64)          0         \n",
            "_________________________________________________________________\n",
            "conv2d_3 (Conv2D)            (None, 3, 3, 64)          36928     \n",
            "_________________________________________________________________\n",
            "flatten_1 (Flatten)          (None, 576)               0         \n",
            "_________________________________________________________________\n",
            "dense_1 (Dense)              (None, 64)                36928     \n",
            "_________________________________________________________________\n",
            "dense_2 (Dense)              (None, 10)                650       \n",
            "=================================================================\n",
            "Total params: 93,322\n",
            "Trainable params: 93,322\n",
            "Non-trainable params: 0\n",
            "_________________________________________________________________\n"
          ],
          "name": "stdout"
        }
      ]
    },
    {
      "metadata": {
        "id": "8jpqP9JYVgxM",
        "colab_type": "code",
        "colab": {
          "base_uri": "https://localhost:8080/",
          "height": 17
        },
        "outputId": "7ade6b5c-4c6e-4b59-e2ed-18f256aa2162"
      },
      "cell_type": "code",
      "source": [
        "BATCH_SIZE=128\n",
        "\n",
        "# Because tf.data may work with potentially **large** collections of data\n",
        "# we do not shuffle the entire dataset by default\n",
        "# Instead, we maintain a buffer of SHUFFLE_SIZE elements\n",
        "# and sample from there.\n",
        "SHUFFLE_SIZE = 10000 \n",
        "\n",
        "# Create the dataset\n",
        "dataset = tf.data.Dataset.from_tensor_slices((train_images, train_labels))\n",
        "dataset = dataset.shuffle(SHUFFLE_SIZE)\n",
        "dataset = dataset.batch(BATCH_SIZE)"
      ],
      "execution_count": 8,
      "outputs": []
    },
    {
      "metadata": {
        "id": "jvDEbM1DVigY",
        "colab_type": "code",
        "colab": {
          "base_uri": "https://localhost:8080/",
          "height": 4097
        },
        "outputId": "d1fa26fa-7e8b-4fa9-e558-395cb698b719"
      },
      "cell_type": "code",
      "source": [
        "EPOCHS=5\n",
        "\n",
        "for epoch in range(EPOCHS):\n",
        "  for (batch, (images, labels)) in enumerate(dataset):\n",
        "    train_loss, train_accuracy = model.train_on_batch(images, labels)\n",
        "    \n",
        "    if batch % 10 == 0: print(batch, train_accuracy)\n",
        "  \n",
        "  # Here you can gather any metrics or adjust your training parameters\n",
        "  print('Epoch #%d\\t Loss: %.6f\\tAccuracy: %.6f' % (epoch + 1, train_loss, train_accuracy))"
      ],
      "execution_count": 9,
      "outputs": [
        {
          "output_type": "stream",
          "text": [
            "(0, <tf.Tensor: id=513, shape=(), dtype=float32, numpy=0.1328125>)\n",
            "(10, <tf.Tensor: id=2214, shape=(), dtype=float32, numpy=0.1015625>)\n",
            "(20, <tf.Tensor: id=3915, shape=(), dtype=float32, numpy=0.1015625>)\n",
            "(30, <tf.Tensor: id=5616, shape=(), dtype=float32, numpy=0.140625>)\n",
            "(40, <tf.Tensor: id=7317, shape=(), dtype=float32, numpy=0.1171875>)\n",
            "(50, <tf.Tensor: id=9018, shape=(), dtype=float32, numpy=0.1796875>)\n",
            "(60, <tf.Tensor: id=10719, shape=(), dtype=float32, numpy=0.328125>)\n",
            "(70, <tf.Tensor: id=12420, shape=(), dtype=float32, numpy=0.3984375>)\n",
            "(80, <tf.Tensor: id=14121, shape=(), dtype=float32, numpy=0.5234375>)\n",
            "(90, <tf.Tensor: id=15822, shape=(), dtype=float32, numpy=0.484375>)\n",
            "(100, <tf.Tensor: id=17523, shape=(), dtype=float32, numpy=0.6171875>)\n",
            "(110, <tf.Tensor: id=19224, shape=(), dtype=float32, numpy=0.6796875>)\n",
            "(120, <tf.Tensor: id=20925, shape=(), dtype=float32, numpy=0.796875>)\n",
            "(130, <tf.Tensor: id=22626, shape=(), dtype=float32, numpy=0.8203125>)\n",
            "(140, <tf.Tensor: id=24327, shape=(), dtype=float32, numpy=0.8359375>)\n",
            "(150, <tf.Tensor: id=26028, shape=(), dtype=float32, numpy=0.8203125>)\n",
            "(160, <tf.Tensor: id=27729, shape=(), dtype=float32, numpy=0.875>)\n",
            "(170, <tf.Tensor: id=29430, shape=(), dtype=float32, numpy=0.8515625>)\n",
            "(180, <tf.Tensor: id=31131, shape=(), dtype=float32, numpy=0.84375>)\n",
            "(190, <tf.Tensor: id=32832, shape=(), dtype=float32, numpy=0.9296875>)\n",
            "(200, <tf.Tensor: id=34533, shape=(), dtype=float32, numpy=0.8515625>)\n",
            "(210, <tf.Tensor: id=36234, shape=(), dtype=float32, numpy=0.890625>)\n",
            "(220, <tf.Tensor: id=37935, shape=(), dtype=float32, numpy=0.953125>)\n",
            "(230, <tf.Tensor: id=39636, shape=(), dtype=float32, numpy=0.921875>)\n",
            "(240, <tf.Tensor: id=41337, shape=(), dtype=float32, numpy=0.9375>)\n",
            "(250, <tf.Tensor: id=43038, shape=(), dtype=float32, numpy=0.9453125>)\n",
            "(260, <tf.Tensor: id=44739, shape=(), dtype=float32, numpy=0.9921875>)\n",
            "(270, <tf.Tensor: id=46440, shape=(), dtype=float32, numpy=0.921875>)\n",
            "(280, <tf.Tensor: id=48141, shape=(), dtype=float32, numpy=0.9453125>)\n",
            "(290, <tf.Tensor: id=49842, shape=(), dtype=float32, numpy=0.9375>)\n",
            "(300, <tf.Tensor: id=51543, shape=(), dtype=float32, numpy=0.9453125>)\n",
            "(310, <tf.Tensor: id=53244, shape=(), dtype=float32, numpy=0.9765625>)\n",
            "(320, <tf.Tensor: id=54945, shape=(), dtype=float32, numpy=0.9296875>)\n",
            "(330, <tf.Tensor: id=56646, shape=(), dtype=float32, numpy=0.9609375>)\n",
            "(340, <tf.Tensor: id=58347, shape=(), dtype=float32, numpy=0.9765625>)\n",
            "(350, <tf.Tensor: id=60048, shape=(), dtype=float32, numpy=0.9921875>)\n",
            "(360, <tf.Tensor: id=61749, shape=(), dtype=float32, numpy=0.9453125>)\n",
            "(370, <tf.Tensor: id=63450, shape=(), dtype=float32, numpy=0.9609375>)\n",
            "(380, <tf.Tensor: id=65151, shape=(), dtype=float32, numpy=0.9609375>)\n",
            "(390, <tf.Tensor: id=66852, shape=(), dtype=float32, numpy=0.96875>)\n",
            "(400, <tf.Tensor: id=68553, shape=(), dtype=float32, numpy=0.96875>)\n",
            "(410, <tf.Tensor: id=70254, shape=(), dtype=float32, numpy=0.953125>)\n",
            "(420, <tf.Tensor: id=71955, shape=(), dtype=float32, numpy=0.9453125>)\n",
            "(430, <tf.Tensor: id=73656, shape=(), dtype=float32, numpy=0.9765625>)\n",
            "(440, <tf.Tensor: id=75357, shape=(), dtype=float32, numpy=0.984375>)\n",
            "(450, <tf.Tensor: id=77058, shape=(), dtype=float32, numpy=0.96875>)\n",
            "(460, <tf.Tensor: id=78759, shape=(), dtype=float32, numpy=0.9765625>)\n",
            "Epoch #1\t Loss: 0.066101\tAccuracy: 0.968750\n",
            "(0, <tf.Tensor: id=80297, shape=(), dtype=float32, numpy=0.953125>)\n",
            "(10, <tf.Tensor: id=81998, shape=(), dtype=float32, numpy=0.9375>)\n",
            "(20, <tf.Tensor: id=83699, shape=(), dtype=float32, numpy=0.984375>)\n",
            "(30, <tf.Tensor: id=85400, shape=(), dtype=float32, numpy=0.9609375>)\n",
            "(40, <tf.Tensor: id=87101, shape=(), dtype=float32, numpy=0.9765625>)\n"
          ],
          "name": "stdout"
        },
        {
          "output_type": "stream",
          "text": [
            "(50, <tf.Tensor: id=88802, shape=(), dtype=float32, numpy=0.9921875>)\n",
            "(60, <tf.Tensor: id=90503, shape=(), dtype=float32, numpy=0.9765625>)\n",
            "(70, <tf.Tensor: id=92204, shape=(), dtype=float32, numpy=0.96875>)\n",
            "(80, <tf.Tensor: id=93905, shape=(), dtype=float32, numpy=0.96875>)\n",
            "(90, <tf.Tensor: id=95606, shape=(), dtype=float32, numpy=0.9921875>)\n",
            "(100, <tf.Tensor: id=97307, shape=(), dtype=float32, numpy=0.9921875>)\n",
            "(110, <tf.Tensor: id=99008, shape=(), dtype=float32, numpy=0.9765625>)\n",
            "(120, <tf.Tensor: id=100709, shape=(), dtype=float32, numpy=0.984375>)\n",
            "(130, <tf.Tensor: id=102410, shape=(), dtype=float32, numpy=0.96875>)\n",
            "(140, <tf.Tensor: id=104111, shape=(), dtype=float32, numpy=0.9921875>)\n",
            "(150, <tf.Tensor: id=105812, shape=(), dtype=float32, numpy=0.953125>)\n",
            "(160, <tf.Tensor: id=107513, shape=(), dtype=float32, numpy=1.0>)\n",
            "(170, <tf.Tensor: id=109214, shape=(), dtype=float32, numpy=0.984375>)\n",
            "(180, <tf.Tensor: id=110915, shape=(), dtype=float32, numpy=0.9921875>)\n",
            "(190, <tf.Tensor: id=112616, shape=(), dtype=float32, numpy=1.0>)\n",
            "(200, <tf.Tensor: id=114317, shape=(), dtype=float32, numpy=0.9765625>)\n",
            "(210, <tf.Tensor: id=116018, shape=(), dtype=float32, numpy=0.96875>)\n",
            "(220, <tf.Tensor: id=117719, shape=(), dtype=float32, numpy=0.984375>)\n",
            "(230, <tf.Tensor: id=119420, shape=(), dtype=float32, numpy=0.96875>)\n",
            "(240, <tf.Tensor: id=121121, shape=(), dtype=float32, numpy=0.984375>)\n",
            "(250, <tf.Tensor: id=122822, shape=(), dtype=float32, numpy=0.96875>)\n",
            "(260, <tf.Tensor: id=124523, shape=(), dtype=float32, numpy=0.9921875>)\n",
            "(270, <tf.Tensor: id=126224, shape=(), dtype=float32, numpy=0.984375>)\n",
            "(280, <tf.Tensor: id=127925, shape=(), dtype=float32, numpy=0.9609375>)\n",
            "(290, <tf.Tensor: id=129626, shape=(), dtype=float32, numpy=0.9921875>)\n",
            "(300, <tf.Tensor: id=131327, shape=(), dtype=float32, numpy=0.953125>)\n",
            "(310, <tf.Tensor: id=133028, shape=(), dtype=float32, numpy=0.9921875>)\n",
            "(320, <tf.Tensor: id=134729, shape=(), dtype=float32, numpy=0.9765625>)\n",
            "(330, <tf.Tensor: id=136430, shape=(), dtype=float32, numpy=0.984375>)\n",
            "(340, <tf.Tensor: id=138131, shape=(), dtype=float32, numpy=0.984375>)\n",
            "(350, <tf.Tensor: id=139832, shape=(), dtype=float32, numpy=0.9765625>)\n",
            "(360, <tf.Tensor: id=141533, shape=(), dtype=float32, numpy=0.9921875>)\n",
            "(370, <tf.Tensor: id=143234, shape=(), dtype=float32, numpy=0.9921875>)\n",
            "(380, <tf.Tensor: id=144935, shape=(), dtype=float32, numpy=0.96875>)\n",
            "(390, <tf.Tensor: id=146636, shape=(), dtype=float32, numpy=1.0>)\n",
            "(400, <tf.Tensor: id=148337, shape=(), dtype=float32, numpy=1.0>)\n",
            "(410, <tf.Tensor: id=150038, shape=(), dtype=float32, numpy=1.0>)\n",
            "(420, <tf.Tensor: id=151739, shape=(), dtype=float32, numpy=0.96875>)\n",
            "(430, <tf.Tensor: id=153440, shape=(), dtype=float32, numpy=0.9921875>)\n",
            "(440, <tf.Tensor: id=155141, shape=(), dtype=float32, numpy=0.9921875>)\n",
            "(450, <tf.Tensor: id=156842, shape=(), dtype=float32, numpy=0.9921875>)\n",
            "(460, <tf.Tensor: id=158543, shape=(), dtype=float32, numpy=1.0>)\n",
            "Epoch #2\t Loss: 0.091588\tAccuracy: 0.968750\n",
            "(0, <tf.Tensor: id=160080, shape=(), dtype=float32, numpy=0.9765625>)\n",
            "(10, <tf.Tensor: id=161781, shape=(), dtype=float32, numpy=0.9921875>)\n",
            "(20, <tf.Tensor: id=163482, shape=(), dtype=float32, numpy=1.0>)\n",
            "(30, <tf.Tensor: id=165183, shape=(), dtype=float32, numpy=0.9765625>)\n",
            "(40, <tf.Tensor: id=166884, shape=(), dtype=float32, numpy=0.984375>)\n",
            "(50, <tf.Tensor: id=168585, shape=(), dtype=float32, numpy=0.9921875>)\n",
            "(60, <tf.Tensor: id=170286, shape=(), dtype=float32, numpy=0.9921875>)\n",
            "(70, <tf.Tensor: id=171987, shape=(), dtype=float32, numpy=0.9765625>)\n",
            "(80, <tf.Tensor: id=173688, shape=(), dtype=float32, numpy=0.9765625>)\n"
          ],
          "name": "stdout"
        },
        {
          "output_type": "stream",
          "text": [
            "(90, <tf.Tensor: id=175389, shape=(), dtype=float32, numpy=0.9765625>)\n",
            "(100, <tf.Tensor: id=177090, shape=(), dtype=float32, numpy=0.984375>)\n",
            "(110, <tf.Tensor: id=178791, shape=(), dtype=float32, numpy=1.0>)\n",
            "(120, <tf.Tensor: id=180492, shape=(), dtype=float32, numpy=0.984375>)\n",
            "(130, <tf.Tensor: id=182193, shape=(), dtype=float32, numpy=0.9921875>)\n",
            "(140, <tf.Tensor: id=183894, shape=(), dtype=float32, numpy=0.984375>)\n",
            "(150, <tf.Tensor: id=185595, shape=(), dtype=float32, numpy=0.984375>)\n",
            "(160, <tf.Tensor: id=187296, shape=(), dtype=float32, numpy=0.984375>)\n",
            "(170, <tf.Tensor: id=188997, shape=(), dtype=float32, numpy=1.0>)\n",
            "(180, <tf.Tensor: id=190698, shape=(), dtype=float32, numpy=0.9921875>)\n",
            "(190, <tf.Tensor: id=192399, shape=(), dtype=float32, numpy=0.9921875>)\n",
            "(200, <tf.Tensor: id=194100, shape=(), dtype=float32, numpy=0.96875>)\n",
            "(210, <tf.Tensor: id=195801, shape=(), dtype=float32, numpy=0.9921875>)\n",
            "(220, <tf.Tensor: id=197502, shape=(), dtype=float32, numpy=0.9921875>)\n",
            "(230, <tf.Tensor: id=199203, shape=(), dtype=float32, numpy=1.0>)\n",
            "(240, <tf.Tensor: id=200904, shape=(), dtype=float32, numpy=1.0>)\n",
            "(250, <tf.Tensor: id=202605, shape=(), dtype=float32, numpy=0.984375>)\n",
            "(260, <tf.Tensor: id=204306, shape=(), dtype=float32, numpy=0.9765625>)\n",
            "(270, <tf.Tensor: id=206007, shape=(), dtype=float32, numpy=0.9765625>)\n",
            "(280, <tf.Tensor: id=207708, shape=(), dtype=float32, numpy=0.9765625>)\n",
            "(290, <tf.Tensor: id=209409, shape=(), dtype=float32, numpy=1.0>)\n",
            "(300, <tf.Tensor: id=211110, shape=(), dtype=float32, numpy=0.9921875>)\n",
            "(310, <tf.Tensor: id=212811, shape=(), dtype=float32, numpy=0.984375>)\n",
            "(320, <tf.Tensor: id=214512, shape=(), dtype=float32, numpy=0.984375>)\n",
            "(330, <tf.Tensor: id=216213, shape=(), dtype=float32, numpy=0.9765625>)\n",
            "(340, <tf.Tensor: id=217914, shape=(), dtype=float32, numpy=0.984375>)\n",
            "(350, <tf.Tensor: id=219615, shape=(), dtype=float32, numpy=0.9921875>)\n",
            "(360, <tf.Tensor: id=221316, shape=(), dtype=float32, numpy=0.9921875>)\n",
            "(370, <tf.Tensor: id=223017, shape=(), dtype=float32, numpy=0.984375>)\n",
            "(380, <tf.Tensor: id=224718, shape=(), dtype=float32, numpy=0.984375>)\n",
            "(390, <tf.Tensor: id=226419, shape=(), dtype=float32, numpy=0.984375>)\n",
            "(400, <tf.Tensor: id=228120, shape=(), dtype=float32, numpy=1.0>)\n",
            "(410, <tf.Tensor: id=229821, shape=(), dtype=float32, numpy=1.0>)\n",
            "(420, <tf.Tensor: id=231522, shape=(), dtype=float32, numpy=0.984375>)\n",
            "(430, <tf.Tensor: id=233223, shape=(), dtype=float32, numpy=1.0>)\n",
            "(440, <tf.Tensor: id=234924, shape=(), dtype=float32, numpy=0.984375>)\n",
            "(450, <tf.Tensor: id=236625, shape=(), dtype=float32, numpy=0.9765625>)\n",
            "(460, <tf.Tensor: id=238326, shape=(), dtype=float32, numpy=0.984375>)\n",
            "Epoch #3\t Loss: 0.016367\tAccuracy: 0.989583\n",
            "(0, <tf.Tensor: id=239863, shape=(), dtype=float32, numpy=0.9765625>)\n",
            "(10, <tf.Tensor: id=241564, shape=(), dtype=float32, numpy=0.9921875>)\n",
            "(20, <tf.Tensor: id=243265, shape=(), dtype=float32, numpy=1.0>)\n",
            "(30, <tf.Tensor: id=244966, shape=(), dtype=float32, numpy=0.96875>)\n",
            "(40, <tf.Tensor: id=246667, shape=(), dtype=float32, numpy=0.9921875>)\n",
            "(50, <tf.Tensor: id=248368, shape=(), dtype=float32, numpy=1.0>)\n",
            "(60, <tf.Tensor: id=250069, shape=(), dtype=float32, numpy=0.9921875>)\n",
            "(70, <tf.Tensor: id=251770, shape=(), dtype=float32, numpy=0.984375>)\n",
            "(80, <tf.Tensor: id=253471, shape=(), dtype=float32, numpy=1.0>)\n",
            "(90, <tf.Tensor: id=255172, shape=(), dtype=float32, numpy=1.0>)\n",
            "(100, <tf.Tensor: id=256873, shape=(), dtype=float32, numpy=0.9921875>)\n",
            "(110, <tf.Tensor: id=258574, shape=(), dtype=float32, numpy=0.9921875>)\n",
            "(120, <tf.Tensor: id=260275, shape=(), dtype=float32, numpy=1.0>)\n"
          ],
          "name": "stdout"
        },
        {
          "output_type": "stream",
          "text": [
            "(130, <tf.Tensor: id=261976, shape=(), dtype=float32, numpy=0.9921875>)\n",
            "(140, <tf.Tensor: id=263677, shape=(), dtype=float32, numpy=0.984375>)\n",
            "(150, <tf.Tensor: id=265378, shape=(), dtype=float32, numpy=0.984375>)\n",
            "(160, <tf.Tensor: id=267079, shape=(), dtype=float32, numpy=0.984375>)\n",
            "(170, <tf.Tensor: id=268780, shape=(), dtype=float32, numpy=1.0>)\n",
            "(180, <tf.Tensor: id=270481, shape=(), dtype=float32, numpy=1.0>)\n",
            "(190, <tf.Tensor: id=272182, shape=(), dtype=float32, numpy=0.984375>)\n",
            "(200, <tf.Tensor: id=273883, shape=(), dtype=float32, numpy=1.0>)\n",
            "(210, <tf.Tensor: id=275584, shape=(), dtype=float32, numpy=1.0>)\n",
            "(220, <tf.Tensor: id=277285, shape=(), dtype=float32, numpy=0.9921875>)\n",
            "(230, <tf.Tensor: id=278986, shape=(), dtype=float32, numpy=0.9765625>)\n",
            "(240, <tf.Tensor: id=280687, shape=(), dtype=float32, numpy=0.9921875>)\n",
            "(250, <tf.Tensor: id=282388, shape=(), dtype=float32, numpy=0.984375>)\n",
            "(260, <tf.Tensor: id=284089, shape=(), dtype=float32, numpy=0.984375>)\n",
            "(270, <tf.Tensor: id=285790, shape=(), dtype=float32, numpy=0.9921875>)\n",
            "(280, <tf.Tensor: id=287491, shape=(), dtype=float32, numpy=0.9765625>)\n",
            "(290, <tf.Tensor: id=289192, shape=(), dtype=float32, numpy=1.0>)\n",
            "(300, <tf.Tensor: id=290893, shape=(), dtype=float32, numpy=0.9765625>)\n",
            "(310, <tf.Tensor: id=292594, shape=(), dtype=float32, numpy=0.9921875>)\n",
            "(320, <tf.Tensor: id=294295, shape=(), dtype=float32, numpy=0.984375>)\n",
            "(330, <tf.Tensor: id=295996, shape=(), dtype=float32, numpy=0.984375>)\n",
            "(340, <tf.Tensor: id=297697, shape=(), dtype=float32, numpy=0.9921875>)\n",
            "(350, <tf.Tensor: id=299398, shape=(), dtype=float32, numpy=0.9921875>)\n",
            "(360, <tf.Tensor: id=301099, shape=(), dtype=float32, numpy=0.984375>)\n",
            "(370, <tf.Tensor: id=302800, shape=(), dtype=float32, numpy=0.9765625>)\n",
            "(380, <tf.Tensor: id=304501, shape=(), dtype=float32, numpy=1.0>)\n",
            "(390, <tf.Tensor: id=306202, shape=(), dtype=float32, numpy=0.9765625>)\n",
            "(400, <tf.Tensor: id=307903, shape=(), dtype=float32, numpy=0.9921875>)\n",
            "(410, <tf.Tensor: id=309604, shape=(), dtype=float32, numpy=0.9921875>)\n",
            "(420, <tf.Tensor: id=311305, shape=(), dtype=float32, numpy=1.0>)\n",
            "(430, <tf.Tensor: id=313006, shape=(), dtype=float32, numpy=1.0>)\n",
            "(440, <tf.Tensor: id=314707, shape=(), dtype=float32, numpy=1.0>)\n",
            "(450, <tf.Tensor: id=316408, shape=(), dtype=float32, numpy=1.0>)\n",
            "(460, <tf.Tensor: id=318109, shape=(), dtype=float32, numpy=1.0>)\n",
            "Epoch #4\t Loss: 0.008114\tAccuracy: 1.000000\n",
            "(0, <tf.Tensor: id=319646, shape=(), dtype=float32, numpy=0.984375>)\n",
            "(10, <tf.Tensor: id=321347, shape=(), dtype=float32, numpy=0.984375>)\n",
            "(20, <tf.Tensor: id=323048, shape=(), dtype=float32, numpy=1.0>)\n",
            "(30, <tf.Tensor: id=324749, shape=(), dtype=float32, numpy=0.9921875>)\n",
            "(40, <tf.Tensor: id=326450, shape=(), dtype=float32, numpy=1.0>)\n",
            "(50, <tf.Tensor: id=328151, shape=(), dtype=float32, numpy=1.0>)\n",
            "(60, <tf.Tensor: id=329852, shape=(), dtype=float32, numpy=0.9765625>)\n",
            "(70, <tf.Tensor: id=331553, shape=(), dtype=float32, numpy=1.0>)\n",
            "(80, <tf.Tensor: id=333254, shape=(), dtype=float32, numpy=0.9921875>)\n",
            "(90, <tf.Tensor: id=334955, shape=(), dtype=float32, numpy=0.96875>)\n",
            "(100, <tf.Tensor: id=336656, shape=(), dtype=float32, numpy=1.0>)\n",
            "(110, <tf.Tensor: id=338357, shape=(), dtype=float32, numpy=1.0>)\n",
            "(120, <tf.Tensor: id=340058, shape=(), dtype=float32, numpy=0.9921875>)\n",
            "(130, <tf.Tensor: id=341759, shape=(), dtype=float32, numpy=1.0>)\n",
            "(140, <tf.Tensor: id=343460, shape=(), dtype=float32, numpy=1.0>)\n",
            "(150, <tf.Tensor: id=345161, shape=(), dtype=float32, numpy=1.0>)\n",
            "(160, <tf.Tensor: id=346862, shape=(), dtype=float32, numpy=0.9921875>)\n",
            "(170, <tf.Tensor: id=348563, shape=(), dtype=float32, numpy=0.984375>)\n"
          ],
          "name": "stdout"
        },
        {
          "output_type": "stream",
          "text": [
            "(180, <tf.Tensor: id=350264, shape=(), dtype=float32, numpy=0.9921875>)\n",
            "(190, <tf.Tensor: id=351965, shape=(), dtype=float32, numpy=1.0>)\n",
            "(200, <tf.Tensor: id=353666, shape=(), dtype=float32, numpy=1.0>)\n",
            "(210, <tf.Tensor: id=355367, shape=(), dtype=float32, numpy=0.9921875>)\n",
            "(220, <tf.Tensor: id=357068, shape=(), dtype=float32, numpy=0.984375>)\n",
            "(230, <tf.Tensor: id=358769, shape=(), dtype=float32, numpy=0.9921875>)\n",
            "(240, <tf.Tensor: id=360470, shape=(), dtype=float32, numpy=1.0>)\n",
            "(250, <tf.Tensor: id=362171, shape=(), dtype=float32, numpy=1.0>)\n",
            "(260, <tf.Tensor: id=363872, shape=(), dtype=float32, numpy=0.9921875>)\n",
            "(270, <tf.Tensor: id=365573, shape=(), dtype=float32, numpy=0.9921875>)\n",
            "(280, <tf.Tensor: id=367274, shape=(), dtype=float32, numpy=0.9921875>)\n",
            "(290, <tf.Tensor: id=368975, shape=(), dtype=float32, numpy=1.0>)\n",
            "(300, <tf.Tensor: id=370676, shape=(), dtype=float32, numpy=0.9921875>)\n",
            "(310, <tf.Tensor: id=372377, shape=(), dtype=float32, numpy=0.9765625>)\n",
            "(320, <tf.Tensor: id=374078, shape=(), dtype=float32, numpy=1.0>)\n",
            "(330, <tf.Tensor: id=375779, shape=(), dtype=float32, numpy=0.984375>)\n",
            "(340, <tf.Tensor: id=377480, shape=(), dtype=float32, numpy=0.9921875>)\n",
            "(350, <tf.Tensor: id=379181, shape=(), dtype=float32, numpy=1.0>)\n",
            "(360, <tf.Tensor: id=380882, shape=(), dtype=float32, numpy=0.984375>)\n",
            "(370, <tf.Tensor: id=382583, shape=(), dtype=float32, numpy=0.9921875>)\n",
            "(380, <tf.Tensor: id=384284, shape=(), dtype=float32, numpy=0.984375>)\n",
            "(390, <tf.Tensor: id=385985, shape=(), dtype=float32, numpy=0.9921875>)\n",
            "(400, <tf.Tensor: id=387686, shape=(), dtype=float32, numpy=0.984375>)\n",
            "(410, <tf.Tensor: id=389387, shape=(), dtype=float32, numpy=1.0>)\n",
            "(420, <tf.Tensor: id=391088, shape=(), dtype=float32, numpy=0.9921875>)\n",
            "(430, <tf.Tensor: id=392789, shape=(), dtype=float32, numpy=0.9921875>)\n",
            "(440, <tf.Tensor: id=394490, shape=(), dtype=float32, numpy=0.9921875>)\n",
            "(450, <tf.Tensor: id=396191, shape=(), dtype=float32, numpy=0.984375>)\n",
            "(460, <tf.Tensor: id=397892, shape=(), dtype=float32, numpy=0.9921875>)\n",
            "Epoch #5\t Loss: 0.003471\tAccuracy: 1.000000\n"
          ],
          "name": "stdout"
        }
      ]
    },
    {
      "metadata": {
        "id": "O5ddqxgdVzQP",
        "colab_type": "code",
        "colab": {
          "base_uri": "https://localhost:8080/",
          "height": 68
        },
        "outputId": "fcfdd919-22b8-4eb1-9870-e9dc1529ff97"
      },
      "cell_type": "code",
      "source": [
        "test_loss, test_acc = model.evaluate(test_images, test_labels)\n",
        "print('\\nTest Model \\t\\t Loss: %.6f\\tAccuracy: %.6f' % (test_loss, test_acc))"
      ],
      "execution_count": 11,
      "outputs": [
        {
          "output_type": "stream",
          "text": [
            "10000/10000 [==============================] - 5s 499us/step\n",
            "\n",
            "Test Model \t\t Loss: 0.031740\tAccuracy: 0.989500\n"
          ],
          "name": "stdout"
        }
      ]
    },
    {
      "metadata": {
        "id": "pXlZk0HeSrv8",
        "colab_type": "code",
        "colab": {}
      },
      "cell_type": "code",
      "source": [
        ""
      ],
      "execution_count": 0,
      "outputs": []
    }
  ]
}