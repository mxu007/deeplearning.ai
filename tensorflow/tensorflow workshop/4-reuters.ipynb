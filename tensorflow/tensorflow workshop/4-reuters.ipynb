{
  "nbformat": 4,
  "nbformat_minor": 0,
  "metadata": {
    "colab": {
      "name": "4-reuters.ipynb",
      "version": "0.3.2",
      "provenance": [],
      "collapsed_sections": [],
      "include_colab_link": true
    }
  },
  "cells": [
    {
      "cell_type": "markdown",
      "metadata": {
        "id": "view-in-github",
        "colab_type": "text"
      },
      "source": [
        "[View in Colaboratory](https://colab.research.google.com/github/mxu007/deeplearning.ai/blob/master/tensorflow/notebooks/4-reuters.ipynb)"
      ]
    },
    {
      "metadata": {
        "id": "j1bsrXvzxBbl",
        "colab_type": "text"
      },
      "cell_type": "markdown",
      "source": [
        "# Classifying newswires with tf.keras, tf.data, and eager execution.\n",
        "\n",
        "In this lab, you'll learn how to classify newswires from the [Reuters dataset](https://www.tensorflow.org/api_docs/python/tf/keras/datasets/reuters) into categories. This tutorial was inspired by [this one](https://github.com/fchollet/deep-learning-with-python-notebooks/blob/master/3.6-classifying-newswires.ipynb). This notebook is similar to previous one. The principal difference is here, we will explore a multiclass text classification problem.\n"
      ]
    },
    {
      "metadata": {
        "id": "fGBZG7rvwf2C",
        "colab_type": "code",
        "colab": {
          "base_uri": "https://localhost:8080/",
          "height": 17
        },
        "outputId": "b6484a2e-9d46-450d-cf3e-53a7d1da0ce4"
      },
      "cell_type": "code",
      "source": [
        "!pip install -q -U tensorflow==1.8.0\n",
        "import tensorflow as tf\n",
        "\n",
        "# Enable eager execution\n",
        "tf.enable_eager_execution()\n",
        "\n",
        "import numpy as np"
      ],
      "execution_count": 1,
      "outputs": []
    },
    {
      "metadata": {
        "id": "_39NLiiGy9ey",
        "colab_type": "text"
      },
      "cell_type": "markdown",
      "source": [
        "\n",
        "## A first look at the dataset\n",
        "\n",
        "### Step 1) Downloading the dataset\n",
        "\n",
        "The dataset consists of a set of short [newswires](https://www.google.com/search?q=what+is+a+newswire) and their corresponding topics as published by Reuters in 1986."
      ]
    },
    {
      "metadata": {
        "id": "F-DuuRzay9KG",
        "colab_type": "code",
        "colab": {
          "base_uri": "https://localhost:8080/",
          "height": 17
        },
        "outputId": "9c81beb7-79aa-4526-9ac2-976b563f9335"
      },
      "cell_type": "code",
      "source": [
        "(train_data, train_labels), (test_data, test_labels) = tf.keras.datasets.reuters.load_data(num_words=10000)"
      ],
      "execution_count": 2,
      "outputs": []
    },
    {
      "metadata": {
        "id": "arCrVEMGzR7t",
        "colab_type": "text"
      },
      "cell_type": "markdown",
      "source": [
        "### Step 2) Exploring the dataset \n",
        "\n",
        "There are around 46 different topics. The set is divided into 8982 training examples and 2246 test examples. Each training example is a list of words represented as integers similar to the IMDB dataset, and the labels are integers up to 46."
      ]
    },
    {
      "metadata": {
        "id": "KL6sMDLVzNpF",
        "colab_type": "code",
        "colab": {
          "base_uri": "https://localhost:8080/",
          "height": 105
        },
        "outputId": "f9e2d82f-c89a-4ca4-9399-44d416d8a2e5"
      },
      "cell_type": "code",
      "source": [
        "print(train_data[0])\n",
        "print(train_labels[0])\n",
        "print(len(train_data))\n",
        "print(len(test_data))"
      ],
      "execution_count": 3,
      "outputs": [
        {
          "output_type": "stream",
          "text": [
            "[1, 2, 2, 8, 43, 10, 447, 5, 25, 207, 270, 5, 3095, 111, 16, 369, 186, 90, 67, 7, 89, 5, 19, 102, 6, 19, 124, 15, 90, 67, 84, 22, 482, 26, 7, 48, 4, 49, 8, 864, 39, 209, 154, 6, 151, 6, 83, 11, 15, 22, 155, 11, 15, 7, 48, 9, 4579, 1005, 504, 6, 258, 6, 272, 11, 15, 22, 134, 44, 11, 15, 16, 8, 197, 1245, 90, 67, 52, 29, 209, 30, 32, 132, 6, 109, 15, 17, 12]\n",
            "3\n",
            "8982\n",
            "2246\n"
          ],
          "name": "stdout"
        }
      ]
    },
    {
      "metadata": {
        "id": "T9DdCQVQRlJQ",
        "colab_type": "text"
      },
      "cell_type": "markdown",
      "source": [
        "### Converting the integers to words\n",
        "\n",
        "We can get the dictionary from `tf.keras.datasets.reuters.get_word_index` which hashes the words to their corresponding integers. Let's try and convert a newswire from integers back into it's original text by first reversing this dictionary and then iterating over a newswire and converting the integers to strings."
      ]
    },
    {
      "metadata": {
        "id": "nVdKXJ7PRmUb",
        "colab_type": "code",
        "colab": {
          "base_uri": "https://localhost:8080/",
          "height": 17
        },
        "outputId": "14429e23-9626-4433-9e58-d433b2ec50aa"
      },
      "cell_type": "code",
      "source": [
        "# Dictionary that hashes words to their integer\n",
        "word_to_integer = tf.keras.datasets.reuters.get_word_index()"
      ],
      "execution_count": 4,
      "outputs": []
    },
    {
      "metadata": {
        "id": "b8iedZIuRoIG",
        "colab_type": "code",
        "colab": {
          "base_uri": "https://localhost:8080/",
          "height": 122
        },
        "outputId": "d16a19b4-845b-4ed5-cc0b-f59218206205"
      },
      "cell_type": "code",
      "source": [
        "print(list(word_to_integer.keys())[0:10])\n",
        "\n",
        "integer_to_word = dict([(value, key) for (key, value) in word_to_integer.items()])\n",
        "\n",
        "# Demonstrate how to find the word from an integer\n",
        "print(integer_to_word[1])\n",
        "print(integer_to_word[2])\n",
        "\n",
        "import random\n",
        "\n",
        "random_index = random.randint(0, 100)\n",
        "# We need to subtract 3 from the indices because 0 is \"padding\", 1 is \"start of sequence\", and 2 is \"unknown\"\n",
        "decoded_newswire = ' '.join([integer_to_word.get(i - 3, 'UNK') for i in train_data[random_index]])\n",
        "print(decoded_newswire)\n",
        "print(train_labels[random_index])"
      ],
      "execution_count": 5,
      "outputs": [
        {
          "output_type": "stream",
          "text": [
            "[u'mdbl', u'fawc', u'degussa', u'woods', u'hanging', u'localized', u'sation', u'chanthaburi', u'refunding', u'hermann']\n",
            "the\n",
            "of\n",
            "UNK shr 54 cts vs 49 cts net 70 2 mln vs 64 0 mln note share adjusted for two for one split in july 1986 results restated for pooled acquisition of third national corp in december 1986 net chargeoffs 15 0 mln dlrs vs 14 2 mln dlrs assets 25 8 billion dlrs up 7 2 pct from a year earlier deposits 21 1 billion up 9 4 pct and loans 17 1 billion dlrs up 17 2 pct reuter 3\n",
            "3\n"
          ],
          "name": "stdout"
        }
      ]
    },
    {
      "metadata": {
        "id": "NZYEERu2R0y1",
        "colab_type": "text"
      },
      "cell_type": "markdown",
      "source": [
        "### Step 3) Format the data\n",
        "As before, we are going to multi-hot encode our newswire which is an array of integers into a 10,000 dimensional vector. We will place 1's in the indices of word-integers that occur in the newswire, and 0's for everything else."
      ]
    },
    {
      "metadata": {
        "id": "nbTtNYCIR4hs",
        "colab_type": "code",
        "colab": {
          "base_uri": "https://localhost:8080/",
          "height": 51
        },
        "outputId": "aaf4f256-0237-4f1e-a06f-e4807c7c774c"
      },
      "cell_type": "code",
      "source": [
        "def vectorize_sequences(sequences, dimension=10000):\n",
        "    # Create an all-zero matrix of shape (len(sequences), dimension)\n",
        "    results = np.zeros((len(sequences), dimension), dtype=np.float32)\n",
        "    for i, sequence in enumerate(sequences):\n",
        "        results[i, sequence] = 1.  # set specific indices of results[i] to 1s\n",
        "    return results\n",
        "\n",
        "\n",
        "train_data = vectorize_sequences(train_data)\n",
        "test_data = vectorize_sequences(test_data)\n",
        "\n",
        "print(train_data.shape)\n",
        "print(train_data[0])"
      ],
      "execution_count": 6,
      "outputs": [
        {
          "output_type": "stream",
          "text": [
            "(8982, 10000)\n",
            "[0. 1. 1. ... 0. 0. 0.]\n"
          ],
          "name": "stdout"
        }
      ]
    },
    {
      "metadata": {
        "id": "MKo1m1ZrSELb",
        "colab_type": "text"
      },
      "cell_type": "markdown",
      "source": [
        "### Step 4) Format the labels\n",
        "\n",
        "We will also use [tf.keras.utils.to_categorical](https://www.tensorflow.org/api_docs/python/tf/keras/utils/to_categorical) to one hot encode our labels."
      ]
    },
    {
      "metadata": {
        "id": "b5Ew7zv-SJK-",
        "colab_type": "code",
        "colab": {
          "base_uri": "https://localhost:8080/",
          "height": 68
        },
        "outputId": "b978927a-a7e0-4980-8949-715e0b0f12ff"
      },
      "cell_type": "code",
      "source": [
        "LABEL_DIMENSIONS = 46\n",
        "\n",
        "print(train_labels[0]) # Before\n",
        "train_labels  = tf.keras.utils.to_categorical(train_labels, LABEL_DIMENSIONS)\n",
        "print(train_labels[0]) # After\n",
        "\n",
        "test_labels = tf.keras.utils.to_categorical(test_labels, LABEL_DIMENSIONS)\n",
        "\n",
        "# Needed later\n",
        "train_labels = train_labels.astype(np.float32)\n",
        "test_labels = test_labels.astype(np.float32)"
      ],
      "execution_count": 7,
      "outputs": [
        {
          "output_type": "stream",
          "text": [
            "3\n",
            "[0. 0. 0. 1. 0. 0. 0. 0. 0. 0. 0. 0. 0. 0. 0. 0. 0. 0. 0. 0. 0. 0. 0. 0.\n",
            " 0. 0. 0. 0. 0. 0. 0. 0. 0. 0. 0. 0. 0. 0. 0. 0. 0. 0. 0. 0. 0. 0.]\n"
          ],
          "name": "stdout"
        }
      ]
    },
    {
      "metadata": {
        "id": "mupgnRsQSa6k",
        "colab_type": "text"
      },
      "cell_type": "markdown",
      "source": [
        "### Step 5) Create the model\n",
        "\n",
        "Our model is similar to the previous notebook, modified to work for a multiclass classification problem."
      ]
    },
    {
      "metadata": {
        "id": "VLsDpdIoSaIU",
        "colab_type": "code",
        "colab": {
          "base_uri": "https://localhost:8080/",
          "height": 238
        },
        "outputId": "e29a4012-3577-4d2e-b994-712abba4c486"
      },
      "cell_type": "code",
      "source": [
        "### Create a model\n",
        "model = tf.keras.Sequential()\n",
        "\n",
        "model.add(tf.keras.layers.Dense(64, activation=tf.nn.relu, input_shape=(10000,)))\n",
        "model.add(tf.keras.layers.Dense(64, activation=tf.nn.relu))\n",
        "model.add(tf.keras.layers.Dense(LABEL_DIMENSIONS, activation=tf.nn.softmax))\n",
        "\n",
        "optimizer = tf.train.RMSPropOptimizer(learning_rate=0.001)\n",
        "\n",
        "model.compile(loss='categorical_crossentropy',\n",
        "              optimizer=optimizer,\n",
        "              metrics=['accuracy'])\n",
        "\n",
        "model.summary()"
      ],
      "execution_count": 8,
      "outputs": [
        {
          "output_type": "stream",
          "text": [
            "_________________________________________________________________\n",
            "Layer (type)                 Output Shape              Param #   \n",
            "=================================================================\n",
            "dense_1 (Dense)              (None, 64)                640064    \n",
            "_________________________________________________________________\n",
            "dense_2 (Dense)              (None, 64)                4160      \n",
            "_________________________________________________________________\n",
            "dense_3 (Dense)              (None, 46)                2990      \n",
            "=================================================================\n",
            "Total params: 647,214\n",
            "Trainable params: 647,214\n",
            "Non-trainable params: 0\n",
            "_________________________________________________________________\n"
          ],
          "name": "stdout"
        }
      ]
    },
    {
      "metadata": {
        "id": "E0KQorztSW0n",
        "colab_type": "text"
      },
      "cell_type": "markdown",
      "source": [
        "### Step 6) Validation set\n",
        "\n",
        "As before, we want to test our model on data it hasn't seen before, but before we get our final test accuracy. Here, we'll create a validation set."
      ]
    },
    {
      "metadata": {
        "id": "Ci6jFHB9TbWA",
        "colab_type": "code",
        "colab": {
          "base_uri": "https://localhost:8080/",
          "height": 17
        },
        "outputId": "48752fb4-71a2-46d2-add2-8a28cbeb729d"
      },
      "cell_type": "code",
      "source": [
        "VAL_SIZE = 1000\n",
        "\n",
        "val_data = train_data[:VAL_SIZE]\n",
        "partial_train_data = train_data[VAL_SIZE:]\n",
        "\n",
        "\n",
        "val_labels = train_labels[:VAL_SIZE]\n",
        "partial_train_labels = train_labels[VAL_SIZE:]"
      ],
      "execution_count": 9,
      "outputs": []
    },
    {
      "metadata": {
        "id": "CaNEaxWkTkAE",
        "colab_type": "text"
      },
      "cell_type": "markdown",
      "source": [
        "### Step 7) Create a tf.data Dataset"
      ]
    },
    {
      "metadata": {
        "id": "Zx7aLE4vTnsS",
        "colab_type": "code",
        "colab": {
          "base_uri": "https://localhost:8080/",
          "height": 17
        },
        "outputId": "71b43654-3c6f-44d0-a5ea-649fb75ecd19"
      },
      "cell_type": "code",
      "source": [
        "BATCH_SIZE = 512\n",
        "TRAINING_SIZE = partial_train_labels.shape[0]\n",
        "\n",
        "training_set = tf.data.Dataset.from_tensor_slices((partial_train_data, partial_train_labels))\n",
        "training_set = training_set.shuffle(TRAINING_SIZE).batch(BATCH_SIZE)"
      ],
      "execution_count": 10,
      "outputs": []
    },
    {
      "metadata": {
        "id": "W8S-IkYMTsHm",
        "colab_type": "text"
      },
      "cell_type": "markdown",
      "source": [
        "### Step 8) Training your model\n",
        "Please be patient as this step may take a while."
      ]
    },
    {
      "metadata": {
        "id": "3OuvepxiTu7m",
        "colab_type": "code",
        "colab": {
          "base_uri": "https://localhost:8080/",
          "height": 697
        },
        "outputId": "d3e8bc56-f55f-42bd-bb70-27a43b75b0ed"
      },
      "cell_type": "code",
      "source": [
        "EPOCHS = 20\n",
        "\n",
        "# Store list of metric values for plotting later\n",
        "tr_loss_list = []\n",
        "tr_accuracy_list = []\n",
        "val_loss_list = []\n",
        "val_accuracy_list = []\n",
        "\n",
        "for epoch in range(EPOCHS):\n",
        "  for newswires, labels in training_set:\n",
        "    # Calculate training loss and accuracy\n",
        "    tr_loss, tr_accuracy = model.train_on_batch(newswires, labels)\n",
        "  \n",
        "  # Calculate validation loss and accuracy\n",
        "  val_loss, val_accuracy = model.evaluate(val_data, val_labels)\n",
        "\n",
        "  # Add to the lists\n",
        "  tr_loss_list.append(tr_loss)\n",
        "  tr_accuracy_list.append(tr_accuracy)\n",
        "  val_loss_list.append(val_loss)\n",
        "  val_accuracy_list.append(val_accuracy)\n",
        "  \n",
        "  print(('Epoch #%d\\t Training Loss: %.2f\\tTraining Accuracy: %.2f\\t'\n",
        "         'Validation Loss: %.2f\\tValidation Accuracy: %.2f')\n",
        "         % (epoch + 1, tr_loss, tr_accuracy,\n",
        "         val_loss, val_accuracy))"
      ],
      "execution_count": 11,
      "outputs": [
        {
          "output_type": "stream",
          "text": [
            "1000/1000 [==============================] - 0s 101us/step\n",
            "Epoch #1\t Training Loss: 3.82\tTraining Accuracy: 0.02\tValidation Loss: 3.81\tValidation Accuracy: 0.06\n",
            "1000/1000 [==============================] - 0s 114us/step\n",
            "Epoch #2\t Training Loss: 3.79\tTraining Accuracy: 0.22\tValidation Loss: 3.79\tValidation Accuracy: 0.21\n",
            "1000/1000 [==============================] - 0s 100us/step\n",
            "Epoch #3\t Training Loss: 3.75\tTraining Accuracy: 0.40\tValidation Loss: 3.74\tValidation Accuracy: 0.41\n",
            "1000/1000 [==============================] - 0s 102us/step\n",
            "Epoch #4\t Training Loss: 3.62\tTraining Accuracy: 0.46\tValidation Loss: 3.60\tValidation Accuracy: 0.45\n",
            "1000/1000 [==============================] - 0s 101us/step\n",
            "Epoch #5\t Training Loss: 3.19\tTraining Accuracy: 0.50\tValidation Loss: 3.12\tValidation Accuracy: 0.51\n",
            "1000/1000 [==============================] - 0s 103us/step\n",
            "Epoch #6\t Training Loss: 2.40\tTraining Accuracy: 0.51\tValidation Loss: 2.35\tValidation Accuracy: 0.52\n",
            "1000/1000 [==============================] - 0s 100us/step\n",
            "Epoch #7\t Training Loss: 1.93\tTraining Accuracy: 0.54\tValidation Loss: 1.88\tValidation Accuracy: 0.54\n",
            "1000/1000 [==============================] - 0s 102us/step\n",
            "Epoch #8\t Training Loss: 1.67\tTraining Accuracy: 0.58\tValidation Loss: 1.59\tValidation Accuracy: 0.63\n",
            "1000/1000 [==============================] - 0s 119us/step\n",
            "Epoch #9\t Training Loss: 1.33\tTraining Accuracy: 0.71\tValidation Loss: 1.37\tValidation Accuracy: 0.68\n",
            "1000/1000 [==============================] - 0s 104us/step\n",
            "Epoch #10\t Training Loss: 1.07\tTraining Accuracy: 0.75\tValidation Loss: 1.20\tValidation Accuracy: 0.73\n",
            "1000/1000 [==============================] - 0s 105us/step\n",
            "Epoch #11\t Training Loss: 1.10\tTraining Accuracy: 0.72\tValidation Loss: 1.08\tValidation Accuracy: 0.77\n",
            "1000/1000 [==============================] - 0s 99us/step\n",
            "Epoch #12\t Training Loss: 0.79\tTraining Accuracy: 0.81\tValidation Loss: 1.00\tValidation Accuracy: 0.79\n",
            "1000/1000 [==============================] - 0s 102us/step\n",
            "Epoch #13\t Training Loss: 0.75\tTraining Accuracy: 0.83\tValidation Loss: 0.95\tValidation Accuracy: 0.80\n",
            "1000/1000 [==============================] - 0s 102us/step\n",
            "Epoch #14\t Training Loss: 0.54\tTraining Accuracy: 0.87\tValidation Loss: 0.93\tValidation Accuracy: 0.80\n",
            "1000/1000 [==============================] - 0s 101us/step\n",
            "Epoch #15\t Training Loss: 0.62\tTraining Accuracy: 0.87\tValidation Loss: 0.90\tValidation Accuracy: 0.82\n",
            "1000/1000 [==============================] - 0s 100us/step\n",
            "Epoch #16\t Training Loss: 0.29\tTraining Accuracy: 0.94\tValidation Loss: 0.91\tValidation Accuracy: 0.80\n",
            "1000/1000 [==============================] - 0s 109us/step\n",
            "Epoch #17\t Training Loss: 0.34\tTraining Accuracy: 0.91\tValidation Loss: 0.92\tValidation Accuracy: 0.80\n",
            "  32/1000 [..............................] - ETA: 0s"
          ],
          "name": "stdout"
        },
        {
          "output_type": "stream",
          "text": [
            "1000/1000 [==============================] - 0s 102us/step\n",
            "Epoch #18\t Training Loss: 0.28\tTraining Accuracy: 0.94\tValidation Loss: 0.88\tValidation Accuracy: 0.83\n",
            "1000/1000 [==============================] - 0s 100us/step\n",
            "Epoch #19\t Training Loss: 0.23\tTraining Accuracy: 0.95\tValidation Loss: 0.90\tValidation Accuracy: 0.82\n",
            "1000/1000 [==============================] - 0s 99us/step\n",
            "Epoch #20\t Training Loss: 0.27\tTraining Accuracy: 0.93\tValidation Loss: 0.95\tValidation Accuracy: 0.82\n"
          ],
          "name": "stdout"
        }
      ]
    },
    {
      "metadata": {
        "id": "TR0thBUhUDTb",
        "colab_type": "text"
      },
      "cell_type": "markdown",
      "source": [
        "### Step 9) Plotting your loss and accuracy\n",
        "We are going to use `matplotlib` to plot our training and validation metrics."
      ]
    },
    {
      "metadata": {
        "id": "FEekeJKbTqj-",
        "colab_type": "code",
        "colab": {
          "base_uri": "https://localhost:8080/",
          "height": 376
        },
        "outputId": "d1d0d8fe-6ba7-45fc-ed3d-0e8f91676d95"
      },
      "cell_type": "code",
      "source": [
        "import matplotlib.pyplot as plt\n",
        "\n",
        "epochs = range(1, EPOCHS + 1)\n",
        "\n",
        "# \"bo\" specifies \"blue dot\"\n",
        "plt.plot(epochs, tr_loss_list, 'bo', label='Training loss')\n",
        "# b specifies a \"solid blue line\"\n",
        "plt.plot(epochs, val_loss_list, 'b', label='Validation loss')\n",
        "plt.title('Training and validation loss')\n",
        "plt.xlabel('Epochs')\n",
        "plt.ylabel('Loss')\n",
        "plt.legend()\n",
        "\n",
        "plt.show()"
      ],
      "execution_count": 12,
      "outputs": [
        {
          "output_type": "display_data",
          "data": {
            "image/png": "[encoded data removed]",
            "text/plain": [
              "<matplotlib.figure.Figure at 0x7f0509309fd0>"
            ]
          },
          "metadata": {
            "tags": []
          }
        }
      ]
    },
    {
      "metadata": {
        "id": "XWybdzYEUE7p",
        "colab_type": "code",
        "colab": {
          "base_uri": "https://localhost:8080/",
          "height": 376
        },
        "outputId": "1d17aaf6-8e8c-4b04-ccc9-86065ea25f3e"
      },
      "cell_type": "code",
      "source": [
        "plt.clf()   # Clear plot\n",
        "\n",
        "plt.plot(epochs, tr_accuracy_list, 'bo', label='Training accuracy')\n",
        "plt.plot(epochs, val_accuracy_list, 'b', label='Validation accuracy')\n",
        "plt.title('Training and validation accuracy')\n",
        "plt.xlabel('Epochs')\n",
        "plt.ylabel('Accuracy')\n",
        "plt.legend()\n",
        "\n",
        "plt.show()"
      ],
      "execution_count": 13,
      "outputs": [
        {
          "output_type": "display_data",
          "data": {
            "image/png": "[encoded data removed]",
            "text/plain": [
              "<matplotlib.figure.Figure at 0x7f0508d7f410>"
            ]
          },
          "metadata": {
            "tags": []
          }
        }
      ]
    },
    {
      "metadata": {
        "id": "0UdrazksUI0_",
        "colab_type": "text"
      },
      "cell_type": "markdown",
      "source": [
        "### Step 10) Testing your model\n",
        "Now that we have successfully trained our model and our training accuracy has jumped over 90%, we need to test it. The test accuracy is a better evaluation metric for how our model will perform in the real world."
      ]
    },
    {
      "metadata": {
        "id": "ta7jDHRwUGIa",
        "colab_type": "code",
        "colab": {
          "base_uri": "https://localhost:8080/",
          "height": 51
        },
        "outputId": "ad52c658-5e68-4d8b-8c60-2cc8c0c1c1c1"
      },
      "cell_type": "code",
      "source": [
        "loss, accuracy = model.evaluate(test_data, test_labels)\n",
        "print('Test accuracy: %.2f' % (accuracy))"
      ],
      "execution_count": 14,
      "outputs": [
        {
          "output_type": "stream",
          "text": [
            "2246/2246 [==============================] - 0s 106us/step\n",
            "Test accuracy: 0.78\n"
          ],
          "name": "stdout"
        }
      ]
    },
    {
      "metadata": {
        "id": "rApApQuB-hlZ",
        "colab_type": "code",
        "colab": {
          "base_uri": "https://localhost:8080/",
          "height": 17
        },
        "outputId": "b7e67d94-6487-432d-9214-8292cf79746f"
      },
      "cell_type": "code",
      "source": [
        ""
      ],
      "execution_count": 14,
      "outputs": []
    }
  ]
}